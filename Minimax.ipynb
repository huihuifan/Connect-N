{
 "metadata": {
  "name": "",
  "signature": "sha256:fcc59b20d07b4ac4797ddc6eabf37d6c714272cbb475cad6f1a933d1a36b3585"
 },
 "nbformat": 3,
 "nbformat_minor": 0,
 "worksheets": [
  {
   "cells": [
    {
     "cell_type": "code",
     "collapsed": false,
     "input": [
      "import numpy as np\n",
      "from numpy.random import rand\n",
      "import math\n",
      "from random import randint\n",
      "import itertools\n",
      "import matplotlib.pyplot as plt\n",
      "%matplotlib inline"
     ],
     "language": "python",
     "metadata": {},
     "outputs": [],
     "prompt_number": 7
    },
    {
     "cell_type": "code",
     "collapsed": false,
     "input": [
      "class ConnectN:\n",
      "    \n",
      "    def __init__(self, grid_size, n):\n",
      "        self.n = n\n",
      "        self.grid_size = grid_size\n",
      "        self.grid = np.zeros([grid_size,grid_size])\n",
      "        self.finished = 0\n",
      "        self.turn_num = 0\n",
      "        \n",
      "    def reset(self):\n",
      "        self.__init__(self.grid_size, self.n)\n",
      "\n",
      "    def check_win(self, col, row, player):\n",
      "        for i in range(0, self.n):\n",
      "            if sum(self.grid[col, row - i:row - i + self.n]) == self.n*player:\n",
      "                self.finished = 1\n",
      "                return 1\n",
      "            if sum(self.grid[col - i: col - i + self.n, row]) == self.n*player:\n",
      "                self.finished = 1\n",
      "                return 1\n",
      "            if col - i >= 0 and col - i + self.n - 1 < self.grid_size and row - i >= 0 and row - i + self.n - 1 < self.grid_size:\n",
      "                if sum([self.grid[col - i + x, row - i + x] for x in range(0, self.n)]) == self.n*player:\n",
      "                    self.finished = 1\n",
      "                    return 1\n",
      "            if col - i >= 0 and col - i + self.n - 1 < self.grid_size and row + i >= 0 and row + i - self.n + 1 < self.grid_size:\n",
      "                if sum([self.grid[col - i + x, row + i - x] for x in range(0, self.n)]) == self.n*player:\n",
      "                    self.finished = 1\n",
      "                    return 1\n",
      "        return 0\n",
      "\n",
      "    def move(self, col, player):\n",
      "        \n",
      "        self.turn_num += 1\n",
      "        \n",
      "        if self.finished == 1:\n",
      "            return 1, 50\n",
      "        sum_col = np.sum([abs(x) for x in self.grid[col]])\n",
      "        if sum_col == self.grid_size:\n",
      "            return -1, -1\n",
      "        self.grid[col, sum_col] = player\n",
      "        if self.check_win(col, sum_col, player) == 1:\n",
      "            return 1, 50\n",
      "        return 0, 0\n",
      "    \n",
      "    def turn(self):\n",
      "        \"\"\"\n",
      "        Returns which player's turn it is. First turn is player 1, second turn is player -1.\n",
      "        \"\"\"\n",
      "        if self.turn_num%2 == 0:\n",
      "            return 1\n",
      "        else:\n",
      "            return -1\n",
      "        \n",
      "    def next_possible_moves(self):\n",
      "        \"\"\"\n",
      "        Returns array of possible columns for a next move\n",
      "        \"\"\"\n",
      "        columns = []\n",
      "        \n",
      "        for i in xrange(0, self.grid_size):\n",
      "            if (0 in self.grid[i]):\n",
      "                columns.append(i)\n",
      "                \n",
      "        return columns\n",
      "    \n",
      "    def all_tokens_placed(self):\n",
      "        \"\"\"\n",
      "        Returns location of all tokens (column, row) that have been placed\n",
      "        \"\"\"\n",
      "        all_tokens = []\n",
      "        \n",
      "        for col in xrange(0, self.grid_size):\n",
      "            for row in xrange(0, col): \n",
      "                if self.grid[col][row] != 0:\n",
      "                    all_tokens.append({\"location\": [col, row], \"player\": self.grid[col][row]})\n",
      "                    \n",
      "        return all_tokens\n",
      "    \n",
      "    def is_empty(self, col, row):\n",
      "        return self.grid[col][row] == 0\n",
      "    \n",
      "    def print_grid(self):\n",
      "        print(np.rot90(self.grid))"
     ],
     "language": "python",
     "metadata": {},
     "outputs": [],
     "prompt_number": 74
    },
    {
     "cell_type": "code",
     "collapsed": false,
     "input": [
      "x = ConnectN(7, 5)\n",
      "x.print_grid ()"
     ],
     "language": "python",
     "metadata": {},
     "outputs": [
      {
       "output_type": "stream",
       "stream": "stdout",
       "text": [
        "[[ 0.  0.  0.  0.  0.  0.  0.]\n",
        " [ 0.  0.  0.  0.  0.  0.  0.]\n",
        " [ 0.  0.  0.  0.  0.  0.  0.]\n",
        " [ 0.  0.  0.  0.  0.  0.  0.]\n",
        " [ 0.  0.  0.  0.  0.  0.  0.]\n",
        " [ 0.  0.  0.  0.  0.  0.  0.]\n",
        " [ 0.  0.  0.  0.  0.  0.  0.]]\n"
       ]
      }
     ],
     "prompt_number": 75
    },
    {
     "cell_type": "code",
     "collapsed": false,
     "input": [
      "x.next_possible_moves()"
     ],
     "language": "python",
     "metadata": {},
     "outputs": [
      {
       "metadata": {},
       "output_type": "pyout",
       "prompt_number": 76,
       "text": [
        "[0, 1, 2, 3, 4, 5, 6]"
       ]
      }
     ],
     "prompt_number": 76
    },
    {
     "cell_type": "code",
     "collapsed": false,
     "input": [
      "x.all_tokens_placed()"
     ],
     "language": "python",
     "metadata": {},
     "outputs": [
      {
       "metadata": {},
       "output_type": "pyout",
       "prompt_number": 77,
       "text": [
        "[]"
       ]
      }
     ],
     "prompt_number": 77
    },
    {
     "cell_type": "code",
     "collapsed": false,
     "input": [
      "x.move(1, 1)"
     ],
     "language": "python",
     "metadata": {},
     "outputs": [
      {
       "metadata": {},
       "output_type": "pyout",
       "prompt_number": 78,
       "text": [
        "(0, 0)"
       ]
      }
     ],
     "prompt_number": 78
    },
    {
     "cell_type": "code",
     "collapsed": false,
     "input": [
      "x.print_grid()"
     ],
     "language": "python",
     "metadata": {},
     "outputs": [
      {
       "output_type": "stream",
       "stream": "stdout",
       "text": [
        "[[ 0.  0.  0.  0.  0.  0.  0.]\n",
        " [ 0.  0.  0.  0.  0.  0.  0.]\n",
        " [ 0.  0.  0.  0.  0.  0.  0.]\n",
        " [ 0.  0.  0.  0.  0.  0.  0.]\n",
        " [ 0.  0.  0.  0.  0.  0.  0.]\n",
        " [ 0.  0.  0.  0.  0.  0.  0.]\n",
        " [ 0.  1.  0.  0.  0.  0.  0.]]\n"
       ]
      }
     ],
     "prompt_number": 83
    },
    {
     "cell_type": "code",
     "collapsed": false,
     "input": [
      "x.all_tokens_placed()"
     ],
     "language": "python",
     "metadata": {},
     "outputs": [
      {
       "metadata": {},
       "output_type": "pyout",
       "prompt_number": 80,
       "text": [
        "[{'location': [1, 0], 'player': 1.0}]"
       ]
      }
     ],
     "prompt_number": 80
    },
    {
     "cell_type": "code",
     "collapsed": false,
     "input": [
      "x.is_empty(1, 0)"
     ],
     "language": "python",
     "metadata": {},
     "outputs": [
      {
       "metadata": {},
       "output_type": "pyout",
       "prompt_number": 84,
       "text": [
        "False"
       ]
      }
     ],
     "prompt_number": 84
    },
    {
     "cell_type": "heading",
     "level": 3,
     "metadata": {},
     "source": [
      "Minimax"
     ]
    },
    {
     "cell_type": "code",
     "collapsed": false,
     "input": [
      "class Minimax_Learner(object):\n",
      "    \"\"\"\n",
      "    Simple implementation of AI algorithm Minimax with static evaluator \n",
      "    \"\"\"\n",
      "    \n",
      "    def __init__(self, board, depth, player):\n",
      "        self.board = board\n",
      "        self.depth = depth\n",
      "        self.num_states = board.grid_size\n",
      "        self.player = player\n",
      "        \n",
      "    \"\"\"\n",
      "    check functions return a tuple:\n",
      "    (number possible ways to win, completeness of number of possible ways to win)\n",
      "    \"\"\"\n",
      "    def check_possible_wins(self, n):\n",
      "        \n",
      "        def check_vertical(token_dict):\n",
      "            \n",
      "            col = token_dict.location[0]\n",
      "            row = token_dict.location[1]\n",
      "            counter = 0\n",
      "            \n",
      "            for i in xrange(0, row):\n",
      "                if self.board.is_empty(col, i) == False:\n",
      "                    counter += 1\n",
      "            \n",
      "            \n",
      "        def check_horizontal(token)\n",
      "        def check_diag_up(token)\n",
      "        def check_diag_down(token)\n",
      "        \n",
      "       \n",
      "        \n",
      "        current_tokens = self.board.all_tokens_placed()\n",
      "        \n",
      "        for token in current_tokens:\n",
      "            vert = check_vertical(token)\n",
      "            horiz = check_horizontal(token)\n",
      "            diag_up = check_diag_up(token)\n",
      "            diag_down = check_diag_down(token)\n",
      "            \n",
      "        return \n",
      "        \n",
      "    def create_tree(self, start_node):\n",
      "        # why doesn't this function use the start node...??? the start node is the board?\n",
      "        \n",
      "        tree = {\"value\": 0, \"children\": {}, \"board\": self.board}\n",
      "        \n",
      "        next_moves = self.board.next_possible_moves()\n",
      "        \n",
      "        board_copy = self.board.deepcopy()\n",
      "        \n",
      "        for i in arange(0, next_moves):\n",
      "            tree.children = {\"child\"+i: board_copy.move(next_moves[i])}\n",
      "            \n",
      "        # this doesn't recursively create the tree...\n",
      "        return tree\n",
      "        \n",
      "    def children(self, node):\n",
      "        \"\"\" \n",
      "        returns children of a node\n",
      "        \"\"\"\n",
      "        return node.children\n",
      "   \n",
      "    def leaf(self, node):\n",
      "        \"\"\"\n",
      "        returns if current node is a leaf (i.e. no children)\n",
      "        \"\"\"\n",
      "        return len(children(node)) == 0\n",
      "        \n",
      "    def max_node(self, node):\n",
      "        \"\"\"\n",
      "        returns true if node is a max node and false if a node\n",
      "        is a min node\n",
      "        \"\"\"\n",
      "        \n",
      "        \n",
      "    def evaluate(self, node):\n",
      "        \"\"\"\n",
      "        Static evaluator function to return a value between Loss and Win for intermediate game\n",
      "        positions, larger if the position is better for the current player.\n",
      "        If depth limit of the search is exceeded, is applied to remaining nodes as if\n",
      "        they were leaves. \n",
      "        \n",
      "        We calculate the rating by:\n",
      "        1. Checking each token already placed, and checking how many possible ways to connect N there are\n",
      "        2. Weight this by how complete these win paths are\n",
      "        3. If winning token would be our player, add 1 point\n",
      "        4. If winning token belongs to other player, subtract 1 point\n",
      "        \"\"\"\n",
      "        \n",
      "        board_score = \n",
      "                \n",
      "\n",
      "    def minimax(self, node):\n",
      "        \"\"\" \n",
      "        Recursive implementation of Minimax algorithm using pseudocode from: \n",
      "        https://www.cs.cornell.edu/courses/cs312/2002sp/lectures/rec21.htm\n",
      "        \n",
      "        Loss and Win values should be set to - and + infinity, respectively, but\n",
      "        here use -/+ 1000\n",
      "        \"\"\"\n",
      "        \n",
      "        if leaf(node) || self.depth == 0:\n",
      "            evaluate(node)\n",
      "        \n",
      "        if max_node(node):\n",
      "            # L = -infinity\n",
      "            current_node_value = -1000\n",
      "            for child in children(node):\n",
      "                next_node_value = minimax(self, child, self.depth-1)\n",
      "                if current_node_value > next_node_value:\n",
      "                    current_node_value = next_node_value\n",
      "            return current_node_value\n",
      "        \n",
      "        if not max_node(node):\n",
      "            # W = +infinity\n",
      "            current_node_value = 1000\n",
      "            for child in children(node):\n",
      "                next_node_value = minimax(self, child, self.depth-1)\n",
      "                if next_node_value < current_node_value:\n",
      "                    current_node_value = next_node_value\n",
      "            return current_node_value\n",
      "        \n"
     ],
     "language": "python",
     "metadata": {},
     "outputs": []
    },
    {
     "cell_type": "code",
     "collapsed": false,
     "input": [],
     "language": "python",
     "metadata": {},
     "outputs": [],
     "prompt_number": 3
    },
    {
     "cell_type": "code",
     "collapsed": false,
     "input": [],
     "language": "python",
     "metadata": {},
     "outputs": []
    }
   ],
   "metadata": {}
  }
 ]
}