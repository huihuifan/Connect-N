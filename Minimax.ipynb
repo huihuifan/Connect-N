{
<<<<<<< HEAD
 "metadata": {
  "name": "",
  "signature": "sha256:52a9aa6625af91b857d8968e5e9d92f4836e5ccffcbf7eb1b2accafe7abbe142"
 },
 "nbformat": 3,
 "nbformat_minor": 0,
 "worksheets": [
=======
 "cells": [
>>>>>>> d933ebf4d858ef9a98bc00e34082cf0dff496d61
  {
   "cell_type": "code",
   "execution_count": 2,
   "metadata": {
    "collapsed": false
   },
   "outputs": [],
   "source": [
    "import numpy as np\n",
    "from numpy.random import rand\n",
    "import math\n",
    "from random import randint\n",
    "import itertools\n",
    "import matplotlib.pyplot as plt\n",
    "%matplotlib inline"
   ]
  },
  {
   "cell_type": "code",
   "execution_count": 202,
   "metadata": {
    "collapsed": false
   },
   "outputs": [],
   "source": [
    "class ConnectN:\n",
    "    \n",
    "    def __init__(self, grid_size, n):\n",
    "        self.n = n\n",
    "        self.grid_size = grid_size\n",
    "        self.grid = np.zeros([grid_size,grid_size])\n",
    "        self.finished = 0\n",
    "        self.turn_num = 0\n",
    "        \n",
    "    def reset(self):\n",
    "        self.__init__(self.grid_size, self.n)\n",
    "\n",
    "    def check_win(self, col, row, player):\n",
    "        for i in range(0, self.n):\n",
    "            if sum(self.grid[col, row - i:row - i + self.n]) == self.n*player:\n",
    "                self.finished = 1\n",
    "                return 1\n",
    "            if sum(self.grid[col - i: col - i + self.n, row]) == self.n*player:\n",
    "                self.finished = 1\n",
    "                return 1\n",
    "            if col - i >= 0 and col - i + self.n - 1 < self.grid_size and row - i >= 0 and row - i + self.n - 1 < self.grid_size:\n",
    "                if sum([self.grid[col - i + x, row - i + x] for x in range(0, self.n)]) == self.n*player:\n",
    "                    self.finished = 1\n",
    "                    return 1\n",
    "            if col - i >= 0 and col - i + self.n - 1 < self.grid_size and row + i >= self.n and row + i < self.grid_size:\n",
    "                if sum([self.grid[col - i + x, row + i - x] for x in range(0, self.n)]) == self.n*player:\n",
    "                    self.finished = 1\n",
    "                    return 1\n",
    "        return 0\n",
    "\n",
    "    def move(self, col, player):\n",
    "        \n",
    "        self.turn_num += 1\n",
    "        \n",
    "        if self.finished == 1:\n",
    "            return 1, 50\n",
    "        sum_col = np.sum([abs(x) for x in self.grid[col]])\n",
    "        if sum_col == self.grid_size:\n",
    "            return -1, -1\n",
    "        self.grid[col, sum_col] = player\n",
    "        if self.check_win(col, sum_col, player) == 1:\n",
    "            return 1, 50\n",
    "        return 0, 0\n",
    "    \n",
    "    def turn(self):\n",
    "        \"\"\"\n",
    "        Returns which player's turn it is. First turn is player 1, second turn is player -1.\n",
    "        \"\"\"\n",
    "        if self.turn_num%2 == 0:\n",
    "            return 1\n",
    "        else:\n",
    "            return -1\n",
    "        \n",
    "    def next_possible_moves(self):\n",
    "        \"\"\"\n",
    "        Returns array of possible columns for a next move\n",
    "        \"\"\"\n",
    "        columns = []\n",
    "        \n",
    "        for i in xrange(0, self.grid_size):\n",
    "            if (0 in self.grid[i]):\n",
    "                columns.append(i)\n",
    "                \n",
    "        return columns\n",
    "    \n",
    "    def all_tokens_placed(self):\n",
    "        \"\"\"\n",
    "        Returns location of all tokens (column, row) that have been placed\n",
    "        \"\"\"\n",
    "        all_tokens = []\n",
    "        \n",
    "        for col in xrange(0, self.grid_size):\n",
    "            for row in xrange(0, self.grid_size): \n",
    "                if self.grid[col][row] != 0:\n",
    "                    all_tokens.append({\"location\": [col, row], \"player\": self.grid[col][row]})\n",
    "                    \n",
    "        return all_tokens\n",
    "    \n",
    "    def is_empty(self, col, row):\n",
    "        return self.grid[col][row] == 0\n",
    "    \n",
    "    def print_grid(self):\n",
    "        print(np.rot90(self.grid))"
   ]
  },
  {
   "cell_type": "code",
   "execution_count": 203,
   "metadata": {
    "collapsed": false
   },
   "outputs": [
    {
     "name": "stdout",
     "output_type": "stream",
     "text": [
      "[[ 0.  0.  0.  0.  0.  0.  0.]\n",
      " [ 0.  0.  0.  0.  0.  0.  0.]\n",
      " [ 0.  0.  0.  0.  0.  0.  0.]\n",
      " [ 0.  0.  0.  0.  0.  0.  0.]\n",
      " [ 0.  0.  0.  0.  0.  0.  0.]\n",
      " [ 0.  0.  0.  0.  0.  0.  0.]\n",
      " [ 0.  0.  0.  0.  0.  0.  0.]]\n"
     ]
    }
   ],
   "source": [
    "x = ConnectN(7, 5)\n",
    "x.print_grid ()"
   ]
  },
  {
   "cell_type": "code",
   "execution_count": 204,
   "metadata": {
    "collapsed": false
   },
   "outputs": [
    {
     "data": {
      "text/plain": [
       "[0, 1, 2, 3, 4, 5, 6]"
      ]
     },
     "execution_count": 204,
     "metadata": {},
     "output_type": "execute_result"
    }
   ],
   "source": [
    "x.next_possible_moves()"
   ]
  },
  {
   "cell_type": "code",
   "execution_count": 205,
   "metadata": {
    "collapsed": false
   },
   "outputs": [
    {
     "data": {
      "text/plain": [
       "[]"
      ]
     },
     "execution_count": 205,
     "metadata": {},
     "output_type": "execute_result"
    }
   ],
   "source": [
    "x.all_tokens_placed()"
   ]
  },
  {
   "cell_type": "code",
   "execution_count": 206,
   "metadata": {
    "collapsed": false
   },
   "outputs": [
    {
     "data": {
      "text/plain": [
       "(0, 0)"
      ]
     },
     "execution_count": 206,
     "metadata": {},
     "output_type": "execute_result"
    }
   ],
   "source": [
    "x.move(3, 1)"
   ]
  },
  {
   "cell_type": "code",
   "execution_count": 207,
   "metadata": {
    "collapsed": false
   },
   "outputs": [
    {
     "name": "stdout",
     "output_type": "stream",
     "text": [
      "[[ 0.  0.  0.  0.  0.  0.  0.]\n",
      " [ 0.  0.  0.  0.  0.  0.  0.]\n",
      " [ 0.  0.  0.  0.  0.  0.  0.]\n",
      " [ 0.  0.  0.  0.  0.  0.  0.]\n",
      " [ 0.  0.  0.  0.  0.  0.  0.]\n",
      " [ 0.  0.  0.  0.  0.  0.  0.]\n",
      " [ 0.  0.  0.  1.  0.  0.  0.]]\n"
     ]
    }
   ],
   "source": [
    "x.print_grid()"
   ]
  },
  {
   "cell_type": "code",
   "execution_count": 208,
   "metadata": {
    "collapsed": false
   },
   "outputs": [
    {
     "data": {
      "text/plain": [
       "[{'location': [3, 0], 'player': 1.0}]"
      ]
     },
     "execution_count": 208,
     "metadata": {},
     "output_type": "execute_result"
    }
   ],
   "source": [
    "x.all_tokens_placed()"
   ]
  },
  {
   "cell_type": "code",
   "execution_count": 209,
   "metadata": {
    "collapsed": false
   },
   "outputs": [
    {
     "data": {
      "text/plain": [
       "True"
      ]
     },
     "execution_count": 209,
     "metadata": {},
     "output_type": "execute_result"
    }
   ],
   "source": [
    "x.is_empty(1, 0)"
   ]
  },
  {
   "cell_type": "code",
   "execution_count": 210,
   "metadata": {
    "collapsed": false
   },
   "outputs": [
    {
     "data": {
      "text/plain": [
       "0.0"
      ]
     },
     "execution_count": 210,
     "metadata": {},
     "output_type": "execute_result"
    }
   ],
   "source": [
    "x.grid[1][0]"
   ]
  },
  {
   "cell_type": "markdown",
   "metadata": {},
   "source": [
    "### Minimax"
   ]
  },
  {
   "cell_type": "code",
   "execution_count": 211,
   "metadata": {
    "collapsed": false
   },
   "outputs": [],
   "source": [
    "import copy"
   ]
  },
  {
   "cell_type": "code",
   "execution_count": 308,
   "metadata": {
    "collapsed": false
   },
   "outputs": [],
   "source": [
    "class Minimax_Learner(object):\n",
    "    \"\"\"\n",
    "    Simple implementation of AI algorithm Minimax with static evaluator \n",
    "    \"\"\"\n",
    "    \n",
    "    def __init__(self, board, depth, n, player):\n",
    "        self.board = board\n",
    "        self.depth = depth\n",
    "        self.num_states = board.grid_size\n",
    "        self.player = player\n",
    "        self.n = n\n",
    "        \n",
    "        \n",
    "    def streakVertical(self, board, col, row, player):\n",
    "        if row > len(board[col]) - self.n:\n",
    "            return 0\n",
    "        for i in range(0,self.n):\n",
    "            if board[col][row + i] == -1*player:\n",
    "                return 0\n",
    "            if board[col][row + i] == 0:\n",
    "                return i\n",
    "        return self.n\n",
    "\n",
    "    def streakHorizontal(self, board, col, row, player):\n",
    "        if col > len(board) - self.n:\n",
    "            return 0\n",
    "        for i in range(0,self.n):\n",
    "            if board[col + i][row] == -1*player:\n",
    "                return 0\n",
    "            if board[col + i][row] == 0:\n",
    "                return i\n",
    "        return self.n\n",
    "    \n",
    "    def streakDiagonalUp(self, board, col, row, player):\n",
    "        if row > len(board[col]) - self.n or col > len(board) - self.n:\n",
    "            return 0\n",
    "        for i in range(0,self.n):\n",
    "            if board[col + i][row + i] == -1*player:\n",
    "                return 0\n",
    "            if board[col + i][row + i] == 0:\n",
    "                return i\n",
    "        return self.n\n",
    "    \n",
    "    def streakDiagonalDown(self, board, col, row, player):\n",
    "        if row < self.n or col > len(board) - self.n:\n",
    "            return 0\n",
    "        for i in range(0,self.n):\n",
    "            if board[col + i][row - i] == -1*player:\n",
    "                return 0\n",
    "            if board[col + i][row - i] == 0:\n",
    "                return i\n",
    "        return self.n\n",
    "\n",
    "    def value(self, board):\n",
    "        val = 0\n",
    "        conversion = [int(math.pow(2, i))/2 for i in range(0, self.n+1)]\n",
    "        conversion[self.n] = 200000000\n",
    "        conversion_other = [int(math.pow(2, i))/2 for i in range(0, self.n+1)]\n",
    "        conversion_other[self.n-1] = 100000000\n",
    "        for i in range(0, len(board)):\n",
    "            for j in range(0, len(board[0])):\n",
    "                val += conversion[self.streakVertical(board, i, j, self.player)]\n",
    "                val += conversion[self.streakHorizontal(board, i, j, self.player)]\n",
    "                val += conversion[self.streakDiagonalUp(board, i, j, self.player)]\n",
    "                val += conversion[self.streakDiagonalDown(board, i, j, self.player)]\n",
    "                val -= conversion_other[self.streakVertical(board, i, j, -1*self.player)]\n",
    "                val -= conversion_other[self.streakHorizontal(board, i, j, -1*self.player)]\n",
    "                val -= conversion_other[self.streakDiagonalUp(board, i, j, -1*self.player)]\n",
    "                val -= conversion_other[self.streakDiagonalDown(board, i, j, -1*self.player)]\n",
    "        return val\n",
    "        \n",
    "    def create_tree(self, node, depth, player, move):\n",
    "        if depth == 0:\n",
    "            return None\n",
    "        \n",
    "        else:\n",
    "            tree = {\"value\": 0, \"children\": [], \"board\": node, \"player\": player, \"move\": move}\n",
    "\n",
    "            next_moves = node.next_possible_moves()\n",
    "\n",
    "            for move in next_moves:\n",
    "                board_copy = copy.deepcopy(node)\n",
    "                board_copy.move(move, self.player)\n",
    "                new_child = self.create_tree(board_copy, depth-1, 1-player, move)\n",
    "                \n",
    "                if new_child != None:\n",
    "                    tree[\"children\"].append(new_child)\n",
    "\n",
    "            return tree\n",
    "\n",
    "    def children(self, node):\n",
    "        \"\"\" \n",
    "        returns children of a node\n",
    "        \"\"\"\n",
    "        return node[\"children\"]\n",
    "   \n",
    "    def leaf(self, node):\n",
    "        \"\"\"\n",
    "        returns if current node is a leaf (i.e. no children)\n",
    "        \"\"\"\n",
    "        return len(self.children(node)) == 0\n",
    "        \n",
    "    def max_node(self, node):\n",
    "        \"\"\"\n",
    "        returns true if node is a max node and false if a node\n",
    "        is a min node\n",
    "        \"\"\"\n",
    "        return node[\"player\"] == self.player\n",
    "        \n",
    "    def evaluate(self, node):\n",
    "        \"\"\"\n",
    "        Static evaluator function to return a value between Loss and Win for intermediate game\n",
    "        positions, larger if the position is better for the current player.\n",
    "        If depth limit of the search is exceeded, is applied to remaining nodes as if\n",
    "        they were leaves. \n",
    "        \n",
    "        We calculate the rating by:\n",
    "        1. Checking each token already placed, and checking how many possible ways to connect N there are\n",
    "        2. Weight this by how complete these win paths are\n",
    "        #3. If tokens in win streak are our player, add 1 point\n",
    "        #4. If tokens in win streak are other player, subtract 1 point\n",
    "        \"\"\"\n",
    "        node[\"value\"] = self.value(node[\"board\"].grid)\n",
    "        return node[\"value\"]       \n",
    "\n",
    "    def minimax(self, node, depth):\n",
    "        \"\"\" \n",
    "        Recursive implementation of Minimax algorithm using pseudocode from: \n",
    "        https://www.cs.cornell.edu/courses/cs312/2002sp/lectures/rec21.htm\n",
    "        \n",
    "        Loss and Win values should be set to - and + infinity, respectively, but\n",
    "        here use -/+ 1000\n",
    "        \"\"\"\n",
    "        if self.leaf(node) or depth == 0:\n",
    "            return self.evaluate(node)\n",
    "        \n",
    "        if self.max_node(node):\n",
    "            # L = -infinity\n",
    "            current_node_value = -1000\n",
    "            for child in self.children(node):\n",
    "                next_node_value = self.minimax(child, depth-1)\n",
    "                if current_node_value < next_node_value:\n",
    "                    current_node_value = next_node_value\n",
    "            node[\"value\"] = current_node_value\n",
    "            return current_node_value\n",
    "        \n",
    "        if not self.max_node(node):\n",
    "            # W = +infinity\n",
    "            current_node_value = 1000\n",
    "            for child in self.children(node):\n",
    "                next_node_value = self.minimax(child, depth-1)\n",
    "                if next_node_value < current_node_value:\n",
    "                    current_node_value = next_node_value\n",
    "            node[\"value\"] = current_node_value\n",
    "            return current_node_value\n",
    "\n",
    "    def calc_next_move(self):\n",
    "        current_tree = self.create_tree(self.board, self.depth, self.player, None)\n",
    "        top_val = self.minimax(current_tree, self.depth)\n",
    "        print \"this is top_val\", top_val\n",
    "        \n",
    "        #print current_tree- works\n",
    "        for child in current_tree[\"children\"]:\n",
    "            #print child\n",
    "            if child[\"value\"] == top_val:\n",
    "                #print \"i'm here\"\n",
    "                return child[\"move\"]\n",
    "        "
   ]
  },
  {
   "cell_type": "code",
   "execution_count": 309,
   "metadata": {
    "collapsed": false
   },
   "outputs": [
    {
     "name": "stdout",
     "output_type": "stream",
     "text": [
      "[[ 0.  0.  0.  0.  0.  0.  0.]\n",
      " [ 0.  0.  0.  0.  0.  0.  0.]\n",
      " [ 0.  0.  0.  0.  0.  0.  0.]\n",
      " [ 0.  0.  0.  0.  0.  0.  0.]\n",
      " [ 0.  0.  0.  0.  0.  0.  0.]\n",
      " [ 0.  0.  0.  0.  0.  0.  0.]\n",
      " [ 0.  0.  0.  0.  0.  0.  0.]]\n"
     ]
<<<<<<< HEAD
    },
    {
     "cell_type": "code",
     "collapsed": false,
     "input": [
      "import copy"
     ],
     "language": "python",
     "metadata": {},
     "outputs": [],
     "prompt_number": 393
    },
    {
     "cell_type": "code",
     "collapsed": false,
     "input": [
      "class Minimax_Learner(object):\n",
      "    \"\"\"\n",
      "    Simple implementation of AI algorithm Minimax with static evaluator \n",
      "    \"\"\"\n",
      "    \n",
      "    def __init__(self, board, depth, n, player):\n",
      "        self.board = board\n",
      "        self.depth = depth\n",
      "        self.num_states = board.grid_size\n",
      "        self.player = player\n",
      "        self.n = n\n",
      "        \n",
      "    def check_possible_wins(self, board):\n",
      "    \n",
      "        def check_vertical(token_dict):\n",
      "            col = token_dict['location'][0]\n",
      "            row = token_dict['location'][1]\n",
      "            counter = 0\n",
      "            \n",
      "            for i in xrange(0, row):\n",
      "                if board.is_empty(col, i) == False:\n",
      "                    counter += 1\n",
      "                    \n",
      "            return counter\n",
      "            \n",
      "        def consecutive(condition):\n",
      "            \n",
      "            length,count = [], 0\n",
      "            for i in range(len(condition)):\n",
      "\n",
      "                if condition[i] == True:\n",
      "                    count += 1\n",
      "                elif condition[i] == False and count > 0:\n",
      "                    length.append(count)\n",
      "                    count = 0\n",
      "\n",
      "                if i == len(condition) - 1 and count > 0:\n",
      "                    length.append(count)\n",
      "\n",
      "                return sum(length)\n",
      "            \n",
      "        def check_horizontal(token_dict):\n",
      "            col = token_dict['location'][0]\n",
      "            row = token_dict['location'][1]\n",
      "            counter = 0\n",
      "            \n",
      "            rows = [board.grid[i,row] for i in xrange(0, self.num_states)]\n",
      "            condition = [i != 0 for i in rows]\n",
      "            counter += consecutive(condition)\n",
      "                \n",
      "            return counter \n",
      "        \n",
      "        def check_diag_up(token_dict):\n",
      "            col = token_dict['location'][0]\n",
      "            row = token_dict['location'][1]\n",
      "            \n",
      "            # above the diagonal\n",
      "            if col < row:\n",
      "                start = row - col\n",
      "                end = self.num_states\n",
      "                \n",
      "                diagonal = [board.grid[i+col-start][i] for i in xrange(start, end)]\n",
      "\n",
      "            # below the diagonal\n",
      "            elif row <= col:\n",
      "                start = col - row\n",
      "                end = self.num_states\n",
      "                \n",
      "                diagonal = [board.grid[i][i+row-start] for i in xrange(start, end)]\n",
      "            \n",
      "            condition = [i != 0 for i in diagonal]\n",
      "            counter = consecutive(condition)\n",
      "            \n",
      "            return counter   \n",
      "            \n",
      "        def check_diag_down(token_dict):\n",
      "            col = token_dict['location'][0]\n",
      "            row = token_dict['location'][1]\n",
      "            \n",
      "            # above the diagonal\n",
      "            if row > -col + self.num_states:\n",
      "                start = row + col - self.num_states \n",
      "                end = self.num_states\n",
      "                \n",
      "                diagonal = [board.grid[start+i][end-i] for i in xrange(start, end+1)]\n",
      "\n",
      "            # below the diagonal\n",
      "            else:\n",
      "                start = 0\n",
      "                end = row + col\n",
      "                \n",
      "                diagonal = [board.grid[start+i][end-i] for i in xrange(start, end+1)]\n",
      "                print diagonal\n",
      "            \n",
      "            condition = [i != 0 for i in diagonal]\n",
      "            counter = consecutive(condition)\n",
      "            \n",
      "            return counter \n",
      "        \n",
      "        current_tokens = board.all_tokens_placed()\n",
      "        win_paths = 0\n",
      "        \n",
      "        for token in current_tokens:\n",
      "            win_paths += check_vertical(token)\n",
      "            win_paths += check_horizontal(token)\n",
      "            win_paths += check_diag_up(token)\n",
      "            win_paths += check_diag_down(token)\n",
      "            \n",
      "        return win_paths\n",
      "        \n",
      "    def create_tree(self, node, depth, player, move):\n",
      "        \n",
      "        if depth == 0:\n",
      "            return None\n",
      "        \n",
      "        else:\n",
      "            tree = {\"value\": 0, \"children\": [], \"board\": node, \"player\": player, \"move\": move}\n",
      "    \n",
      "            next_moves = node.next_possible_moves()\n",
      "\n",
      "            for move in next_moves:\n",
      "                board_copy = copy.deepcopy(node)\n",
      "                board_copy.move(move, self.player)\n",
      "                new_child = self.create_tree(board_copy, depth-1, 1-player, move)\n",
      "                \n",
      "                if new_child != None:\n",
      "                    tree[\"children\"].append(new_child)\n",
      "\n",
      "            return tree\n",
      "\n",
      "    def children(self, node):\n",
      "        \"\"\" \n",
      "        returns children of a node\n",
      "        \"\"\"\n",
      "        return node[\"children\"]\n",
      "   \n",
      "    def leaf(self, node):\n",
      "        \"\"\"\n",
      "        returns if current node is a leaf (i.e. no children)\n",
      "        \"\"\"\n",
      "        return len(self.children(node)) == 0\n",
      "        \n",
      "    def max_node(self, node):\n",
      "        \"\"\"\n",
      "        returns true if node is a max node and false if a node\n",
      "        is a min node\n",
      "        \"\"\"\n",
      "        return node[\"player\"] == self.player\n",
      "        \n",
      "    def evaluate(self, node):\n",
      "        \"\"\"\n",
      "        Static evaluator function to return a value between Loss and Win for intermediate game\n",
      "        positions, larger if the position is better for the current player.\n",
      "        If depth limit of the search is exceeded, is applied to remaining nodes as if\n",
      "        they were leaves. \n",
      "        \n",
      "        We calculate the rating by:\n",
      "        1. Checking each token already placed, and checking how many possible ways to connect N there are\n",
      "        2. Weight this by how complete these win paths are\n",
      "        #3. If tokens in win streak are our player, add 1 point\n",
      "        #4. If tokens in win streak are other player, subtract 1 point\n",
      "        \"\"\"\n",
      "        node[\"value\"] = self.check_possible_wins(node[\"board\"])\n",
      "        return node[\"value\"]       \n",
      "\n",
      "    def minimax(self, node, depth):\n",
      "        \"\"\" \n",
      "        Recursive implementation of Minimax algorithm using pseudocode from: \n",
      "        https://www.cs.cornell.edu/courses/cs312/2002sp/lectures/rec21.htm\n",
      "        \n",
      "        Loss and Win values should be set to - and + infinity, respectively, but\n",
      "        here use -/+ 1000\n",
      "        \"\"\"\n",
      "        \n",
      "        if self.leaf(node) or depth == 0:\n",
      "            return self.evaluate(node)\n",
      "        \n",
      "        if self.max_node(node):\n",
      "            # L = -infinity\n",
      "            current_node_value = -1000\n",
      "            for child in self.children(node):\n",
      "                next_node_value = self.minimax(child, depth-1)\n",
      "                if current_node_value < next_node_value:\n",
      "                    current_node_value = next_node_value\n",
      "            node[\"value\"] = current_node_value\n",
      "            return current_node_value\n",
      "        \n",
      "        if not self.max_node(node):\n",
      "            # W = +infinity\n",
      "            current_node_value = 1000\n",
      "            for child in self.children(node):\n",
      "                next_node_value = self.minimax(child, depth-1)\n",
      "                if next_node_value < current_node_value:\n",
      "                    current_node_value = next_node_value\n",
      "            node[\"value\"] = current_node_value\n",
      "            return current_node_value\n",
      "\n",
      "    def calc_next_move(self):\n",
      "        \n",
      "        current_tree = self.create_tree(self.board, self.depth, self.player, None)\n",
      "        top_val = self.minimax(current_tree, self.depth)\n",
      "        print \"this is top_val\", top_val\n",
      "        \n",
      "        #print current_tree- works\n",
      "        for child in current_tree[\"children\"]:\n",
      "            #print child\n",
      "            if child[\"value\"] == top_val:\n",
      "                #print \"i'm here\"\n",
      "                return child[\"move\"]\n",
      "        "
     ],
     "language": "python",
     "metadata": {},
     "outputs": [],
     "prompt_number": 674
    },
    {
     "cell_type": "code",
     "collapsed": false,
     "input": [
      "x = ConnectN(7, 4)\n",
      "x.print_grid()"
     ],
     "language": "python",
     "metadata": {},
     "outputs": [
      {
       "output_type": "stream",
       "stream": "stdout",
       "text": [
        "[[ 0.  0.  0.  0.  0.  0.  0.]\n",
        " [ 0.  0.  0.  0.  0.  0.  0.]\n",
        " [ 0.  0.  0.  0.  0.  0.  0.]\n",
        " [ 0.  0.  0.  0.  0.  0.  0.]\n",
        " [ 0.  0.  0.  0.  0.  0.  0.]\n",
        " [ 0.  0.  0.  0.  0.  0.  0.]\n",
        " [ 0.  0.  0.  0.  0.  0.  0.]]\n"
       ]
      }
     ],
     "prompt_number": 675
    },
=======
    }
   ],
   "source": [
    "x = ConnectN(7, 4)\n",
    "x.print_grid()"
   ]
  },
  {
   "cell_type": "code",
   "execution_count": 310,
   "metadata": {
    "collapsed": false
   },
   "outputs": [
>>>>>>> d933ebf4d858ef9a98bc00e34082cf0dff496d61
    {
     "data": {
      "text/plain": [
       "(0, 0)"
      ]
     },
     "execution_count": 310,
     "metadata": {},
     "output_type": "execute_result"
    }
   ],
   "source": [
    "x.move(0, 1)\n",
    "x.move(1, -1)\n",
    "x.move(1, 1)\n",
    "x.move(2, 1)\n",
    "x.move(2, 1)"
   ]
  },
  {
   "cell_type": "code",
   "execution_count": 311,
   "metadata": {
    "collapsed": false
   },
   "outputs": [],
   "source": [
    "test = Minimax_Learner(x, 3, 4, -1)  "
   ]
  },
  {
   "cell_type": "code",
   "execution_count": 312,
   "metadata": {
    "collapsed": false
   },
   "outputs": [
    {
     "name": "stdout",
     "output_type": "stream",
     "text": [
      "this is top_val -4\n"
     ]
    },
    {
     "data": {
      "text/plain": [
       "2"
      ]
     },
     "execution_count": 312,
     "metadata": {},
     "output_type": "execute_result"
    }
   ],
   "source": [
    "test.calc_next_move()"
   ]
  },
  {
   "cell_type": "code",
   "execution_count": 317,
   "metadata": {
    "collapsed": false
   },
   "outputs": [],
   "source": [
    "def play_game(grid_size, n):\n",
    "    x = ConnectN(grid_size, n)\n",
    "    p1 = Minimax_Learner(x, 3, 4, 1) \n",
    "    p2 = Minimax_Learner(x, 3, 4, -1)\n",
    "    \n",
    "    while True:\n",
    "        p1move = p1.calc_next_move()\n",
    "        print(\"p1\")\n",
    "        print(p1move)\n",
    "        if (p1move is None):\n",
    "            x.print_grid()\n",
    "            print(\"error\")\n",
    "            return -1\n",
    "        p1result = x.move(p1move, 1)\n",
    "        if (p1result[0] == 1):\n",
    "            print(\"player 1\")\n",
    "            x.print_grid()\n",
    "            return 1\n",
    "        elif (p1result[0] == -1):\n",
    "            x.print_grid()\n",
    "            print(\"error\")\n",
    "            return -1\n",
    "        p2move = p2.calc_next_move()\n",
    "        print(\"p2\")\n",
    "        print(p2move)\n",
    "        if (p2move is None):\n",
    "            x.print_grid()\n",
    "            print(\"error\")\n",
    "            return -1\n",
    "        p2result = x.move(p2move, -1)\n",
    "        if (p2result[0] == 1):\n",
    "            print(\"player 2\")\n",
    "            x.print_grid()\n",
    "            return 1\n",
    "        elif (p2result[0] == -1):\n",
    "            x.print_grid()\n",
    "            print(\"error\")\n",
    "            return -1"
   ]
  },
  {
   "cell_type": "code",
   "execution_count": 318,
   "metadata": {
    "collapsed": false
   },
   "outputs": [
    {
     "name": "stdout",
     "output_type": "stream",
     "text": [
      "this is top_val 4\n",
      "p1\n",
      "0\n",
      "this is top_val 2\n",
      "p2\n",
      "0\n",
      "this is top_val 4\n",
      "p1\n",
      "0\n",
      "this is top_val 2\n",
      "p2\n",
      "0\n",
      "this is top_val 4\n",
      "p1\n",
      "1\n",
      "this is top_val 4\n",
      "p2\n",
      "1\n",
      "this is top_val 4\n",
      "p1\n",
      "1\n",
      "this is top_val 4\n",
      "p2\n",
      "1\n",
      "this is top_val 4\n",
      "p1\n",
      "2\n",
      "this is top_val 8\n",
      "p2\n",
      "3\n",
      "this is top_val 2\n",
      "p1\n",
      "2\n",
      "this is top_val 10\n",
      "p2\n",
      "2\n",
      "this is top_val 0\n",
      "p1\n",
      "2\n",
      "this is top_val 8\n",
      "p2\n",
      "0\n",
      "this is top_val 4\n",
      "p1\n",
      "3\n",
      "this is top_val 6\n",
      "p2\n",
      "3\n",
      "this is top_val 4\n",
      "p1\n",
      "3\n",
      "this is top_val 4\n",
      "p2\n",
      "3\n",
      "this is top_val 2\n",
      "p1\n",
      "0\n",
      "this is top_val 5\n",
      "p2\n",
      "1\n",
      "this is top_val 4\n",
      "p1\n",
      "2\n",
      "this is top_val 5\n",
      "p2\n",
      "2\n",
      "this is top_val -1000\n",
      "p1\n",
      "None\n",
      "[[ 0.  0.  0.  0.  0.  0.  0.]\n",
      " [ 1.  0. -1.  0.  0.  0.  0.]\n",
      " [-1. -1.  1. -1.  0.  0.  0.]\n",
      " [-1. -1.  1.  1.  0.  0.  0.]\n",
      " [ 1.  1. -1. -1.  0.  0.  0.]\n",
      " [-1. -1.  1.  1.  0.  0.  0.]\n",
      " [ 1.  1.  1. -1.  0.  0.  0.]]\n",
      "error\n"
     ]
    },
    {
     "data": {
      "text/plain": [
       "-1"
      ]
     },
     "execution_count": 318,
     "metadata": {},
     "output_type": "execute_result"
    }
   ],
   "source": [
    "play_game(7,4)"
   ]
  },
  {
   "cell_type": "code",
   "execution_count": null,
   "metadata": {
    "collapsed": true
   },
   "outputs": [],
   "source": []
  },
  {
   "cell_type": "code",
   "execution_count": null,
   "metadata": {
    "collapsed": true
   },
   "outputs": [],
   "source": []
  }
 ],
 "metadata": {
  "kernelspec": {
   "display_name": "Python 2",
   "language": "python",
   "name": "python2"
  },
  "language_info": {
   "codemirror_mode": {
    "name": "ipython",
    "version": 2
   },
   "file_extension": ".py",
   "mimetype": "text/x-python",
   "name": "python",
   "nbconvert_exporter": "python",
   "pygments_lexer": "ipython2",
   "version": "2.7.5"
  }
 },
 "nbformat": 4,
 "nbformat_minor": 0
}
