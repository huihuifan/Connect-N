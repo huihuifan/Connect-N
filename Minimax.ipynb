{
 "metadata": {
  "name": "",
  "signature": "sha256:c130902c25909e1266cd75fb2c3f4bbaad7e75c9a6d5d9a02fec8462062794fa"
 },
 "nbformat": 3,
 "nbformat_minor": 0,
 "worksheets": [
  {
   "cells": [
    {
     "cell_type": "code",
     "collapsed": false,
     "input": [
      "import numpy as np\n",
      "from numpy.random import rand\n",
      "import math\n",
      "from random import randint\n",
      "import itertools\n",
      "import matplotlib.pyplot as plt\n",
      "%matplotlib inline"
     ],
     "language": "python",
     "metadata": {},
     "outputs": [],
     "prompt_number": 7
    },
    {
     "cell_type": "code",
     "collapsed": false,
     "input": [
      "class ConnectN:\n",
      "    \n",
      "    def __init__(self, grid_size, n):\n",
      "        self.n = n\n",
      "        self.grid_size = grid_size\n",
      "        self.grid = np.zeros([grid_size,grid_size])\n",
      "        self.finished = 0\n",
      "        self.turn_num = 0\n",
      "        \n",
      "    def reset(self):\n",
      "        self.__init__(self.grid_size, self.n)\n",
      "\n",
      "    def check_win(self, col, row, player):\n",
      "        for i in range(0, self.n):\n",
      "            if sum(self.grid[col, row - i:row - i + self.n]) == self.n*player:\n",
      "                self.finished = 1\n",
      "                return 1\n",
      "            if sum(self.grid[col - i: col - i + self.n, row]) == self.n*player:\n",
      "                self.finished = 1\n",
      "                return 1\n",
      "            if col - i >= 0 and col - i + self.n - 1 < self.grid_size and row - i >= 0 and row - i + self.n - 1 < self.grid_size:\n",
      "                if sum([self.grid[col - i + x, row - i + x] for x in range(0, self.n)]) == self.n*player:\n",
      "                    self.finished = 1\n",
      "                    return 1\n",
      "            if col - i >= 0 and col - i + self.n - 1 < self.grid_size and row + i >= 0 and row + i - self.n + 1 < self.grid_size:\n",
      "                if sum([self.grid[col - i + x, row + i - x] for x in range(0, self.n)]) == self.n*player:\n",
      "                    self.finished = 1\n",
      "                    return 1\n",
      "        return 0\n",
      "\n",
      "    def move(self, col, player):\n",
      "        \n",
      "        self.turn_num += 1\n",
      "        \n",
      "        if self.finished == 1:\n",
      "            return 1, 50\n",
      "        sum_col = np.sum([abs(x) for x in self.grid[col]])\n",
      "        if sum_col == self.grid_size:\n",
      "            return -1, -1\n",
      "        self.grid[col, sum_col] = player\n",
      "        if self.check_win(col, sum_col, player) == 1:\n",
      "            return 1, 50\n",
      "        return 0, 0\n",
      "    \n",
      "    def turn(self):\n",
      "        \"\"\"\n",
      "        Returns which player's turn it is. First turn is player 1, second turn is player -1.\n",
      "        \"\"\"\n",
      "        if self.turn_num%2 == 0:\n",
      "            return 1\n",
      "        else:\n",
      "            return -1\n",
      "        \n",
      "    def next_possible_moves(self):\n",
      "        \"\"\"\n",
      "        Returns array of possible columns for a next move\n",
      "        \"\"\"\n",
      "        columns = []\n",
      "        \n",
      "        for i in xrange(0, self.grid_size):\n",
      "            if (0 in self.grid[i]):\n",
      "                columns.append(i)\n",
      "                \n",
      "        return columns\n",
      "    \n",
      "    def all_tokens_placed(self):\n",
      "        \"\"\"\n",
      "        Returns location of all tokens (column, row) that have been placed\n",
      "        \"\"\"\n",
      "        all_tokens = []\n",
      "        \n",
      "        for col in xrange(0, self.grid_size):\n",
      "            for row in xrange(0, self.grid_size): \n",
      "                if self.grid[col][row] != 0:\n",
      "                    all_tokens.append({\"location\": [col, row], \"player\": self.grid[col][row]})\n",
      "                    \n",
      "        return all_tokens\n",
      "    \n",
      "    def is_empty(self, col, row):\n",
      "        return self.grid[col][row] == 0\n",
      "    \n",
      "    def print_grid(self):\n",
      "        print(np.rot90(self.grid))"
     ],
     "language": "python",
     "metadata": {},
     "outputs": [],
     "prompt_number": 252
    },
    {
     "cell_type": "code",
     "collapsed": false,
     "input": [
      "x = ConnectN(7, 5)\n",
      "x.print_grid ()"
     ],
     "language": "python",
     "metadata": {},
     "outputs": [
      {
       "output_type": "stream",
       "stream": "stdout",
       "text": [
        "[[ 0.  0.  0.  0.  0.  0.  0.]\n",
        " [ 0.  0.  0.  0.  0.  0.  0.]\n",
        " [ 0.  0.  0.  0.  0.  0.  0.]\n",
        " [ 0.  0.  0.  0.  0.  0.  0.]\n",
        " [ 0.  0.  0.  0.  0.  0.  0.]\n",
        " [ 0.  0.  0.  0.  0.  0.  0.]\n",
        " [ 0.  0.  0.  0.  0.  0.  0.]]\n"
       ]
      }
     ],
     "prompt_number": 253
    },
    {
     "cell_type": "code",
     "collapsed": false,
     "input": [
      "x.next_possible_moves()"
     ],
     "language": "python",
     "metadata": {},
     "outputs": [
      {
       "metadata": {},
       "output_type": "pyout",
       "prompt_number": 254,
       "text": [
        "[0, 1, 2, 3, 4, 5, 6]"
       ]
      }
     ],
     "prompt_number": 254
    },
    {
     "cell_type": "code",
     "collapsed": false,
     "input": [
      "x.all_tokens_placed()"
     ],
     "language": "python",
     "metadata": {},
     "outputs": [
      {
       "metadata": {},
       "output_type": "pyout",
       "prompt_number": 267,
       "text": [
        "[{'location': [3, 0], 'player': 1.0},\n",
        " {'location': [3, 1], 'player': 1.0},\n",
        " {'location': [3, 2], 'player': 1.0},\n",
        " {'location': [3, 3], 'player': 1.0}]"
       ]
      }
     ],
     "prompt_number": 267
    },
    {
     "cell_type": "code",
     "collapsed": false,
     "input": [
      "x.move(3, 1)"
     ],
     "language": "python",
     "metadata": {},
     "outputs": [
      {
       "metadata": {},
       "output_type": "pyout",
       "prompt_number": 265,
       "text": [
        "(0, 0)"
       ]
      }
     ],
     "prompt_number": 265
    },
    {
     "cell_type": "code",
     "collapsed": false,
     "input": [
      "x.print_grid()"
     ],
     "language": "python",
     "metadata": {},
     "outputs": [
      {
       "output_type": "stream",
       "stream": "stdout",
       "text": [
        "[[ 0.  0.  0.  0.  0.  0.  0.]\n",
        " [ 0.  0.  0.  0.  0.  0.  0.]\n",
        " [ 0.  0.  0.  0.  0.  0.  0.]\n",
        " [ 0.  0.  0.  1.  0.  0.  0.]\n",
        " [ 0.  0.  0.  1.  0.  0.  0.]\n",
        " [ 0.  0.  0.  1.  0.  0.  0.]\n",
        " [ 0.  0.  0.  1.  0.  0.  0.]]\n"
       ]
      }
     ],
     "prompt_number": 266
    },
    {
     "cell_type": "code",
     "collapsed": false,
     "input": [
      "x.all_tokens_placed()"
     ],
     "language": "python",
     "metadata": {},
     "outputs": [
      {
       "metadata": {},
       "output_type": "pyout",
       "prompt_number": 212,
       "text": [
        "[{'location': [1, 0], 'player': 1.0}]"
       ]
      }
     ],
     "prompt_number": 212
    },
    {
     "cell_type": "code",
     "collapsed": false,
     "input": [
      "x.is_empty(1, 0)"
     ],
     "language": "python",
     "metadata": {},
     "outputs": [
      {
       "metadata": {},
       "output_type": "pyout",
       "prompt_number": 213,
       "text": [
        "False"
       ]
      }
     ],
     "prompt_number": 213
    },
    {
     "cell_type": "code",
     "collapsed": false,
     "input": [
      "x.grid[1][0]"
     ],
     "language": "python",
     "metadata": {},
     "outputs": [
      {
       "metadata": {},
       "output_type": "pyout",
       "prompt_number": 214,
       "text": [
        "1.0"
       ]
      }
     ],
     "prompt_number": 214
    },
    {
     "cell_type": "heading",
     "level": 3,
     "metadata": {},
     "source": [
      "Minimax"
     ]
    },
    {
     "cell_type": "code",
     "collapsed": false,
     "input": [
      "import copy"
     ],
     "language": "python",
     "metadata": {},
     "outputs": [],
     "prompt_number": 393
    },
    {
     "cell_type": "code",
     "collapsed": false,
     "input": [
      "class Minimax_Learner(object):\n",
      "    \"\"\"\n",
      "    Simple implementation of AI algorithm Minimax with static evaluator \n",
      "    \"\"\"\n",
      "    \n",
      "    def __init__(self, board, depth, n, player):\n",
      "        self.board = board\n",
      "        self.depth = depth\n",
      "        self.num_states = board.grid_size\n",
      "        self.player = player\n",
      "        self.n = n\n",
      "        \n",
      "    def check_possible_wins(self, board):\n",
      "        \n",
      "        our_player_tokens = 0\n",
      "        opp_win_tokens = 0\n",
      "        # TO DO: add way to keep track of how many ways our player can win\n",
      "        \n",
      "        def check_vertical(token_dict):\n",
      "            col = token_dict['location'][0]\n",
      "            row = token_dict['location'][1]\n",
      "            counter = 0\n",
      "            \n",
      "            for i in xrange(0, row):\n",
      "                if board.is_empty(col, i) == False:\n",
      "                    counter += 1\n",
      "                    \n",
      "            return counter * (counter/self.n) \n",
      "            \n",
      "        def consecutive(condition):\n",
      "            \n",
      "            length,count = [], 0\n",
      "            for i in range(len(condition)):\n",
      "\n",
      "                if condition[i] == True:\n",
      "                    count += 1\n",
      "                elif condition[i] == False and count > 0:\n",
      "                    length.append(count)\n",
      "                    count = 0\n",
      "\n",
      "                if i == len(condition) - 1 and count > 0:\n",
      "                    length.append(count)\n",
      "\n",
      "                return sum(length)\n",
      "            \n",
      "        def check_horizontal(token_dict):\n",
      "            col = token_dict['location'][0]\n",
      "            row = token_dict['location'][1]\n",
      "            counter = 0\n",
      "            \n",
      "            rows = [board.grid[i,row] for i in xrange(0, self.num_states)]\n",
      "            condition = [i != 0 for i in rows]\n",
      "            counter += consecutive(condition)\n",
      "                \n",
      "            return counter * (counter/self.n)  \n",
      "        \n",
      "        def check_diag_up(token_dict):\n",
      "\n",
      "            diagonal = [r[i] for i, r in enumerate(board.grid)]\n",
      "            condition = [i != 0 for i in diagonal]\n",
      "            counter = consecutive(condition)\n",
      "            \n",
      "            return counter * (counter/self.n)  \n",
      "            \n",
      "        def check_diag_down(token_dict):\n",
      "            \n",
      "            diagonal = [r[-i-1] for i, r in enumerate(board.grid)]\n",
      "            condition = [i != 0 for i in diagonal]\n",
      "            counter = consecutive(condition)\n",
      "            \n",
      "            return counter * (counter/self.n)  \n",
      "        \n",
      "        current_tokens = board.all_tokens_placed()\n",
      "        win_paths = 0\n",
      "        \n",
      "        for token in current_tokens:\n",
      "            win_paths += check_vertical(token)\n",
      "            win_paths += check_horizontal(token)\n",
      "            win_paths += check_diag_up(token)\n",
      "            win_paths += check_diag_down(token)\n",
      "            \n",
      "        return win_paths\n",
      "        \n",
      "    def create_tree(self, node, depth, player, move):\n",
      "        \n",
      "        if depth == 0:\n",
      "            return None\n",
      "        \n",
      "        else:\n",
      "            tree = {\"value\": 0, \"children\": [], \"board\": node, \"player\": player, \"move\": move}\n",
      "\n",
      "            next_moves = node.next_possible_moves()\n",
      "\n",
      "            for move in next_moves:\n",
      "                board_copy = copy.deepcopy(node)\n",
      "                board_copy.move(move, self.player)\n",
      "                new_child = self.create_tree(board_copy, depth-1, 1-player, move)\n",
      "                \n",
      "                if new_child != None:\n",
      "                    tree[\"children\"].append(new_child)\n",
      "\n",
      "            return tree\n",
      "\n",
      "    def children(self, node):\n",
      "        \"\"\" \n",
      "        returns children of a node\n",
      "        \"\"\"\n",
      "        return node[\"children\"]\n",
      "   \n",
      "    def leaf(self, node):\n",
      "        \"\"\"\n",
      "        returns if current node is a leaf (i.e. no children)\n",
      "        \"\"\"\n",
      "        return len(self.children(node)) == 0\n",
      "        \n",
      "    def max_node(self, node):\n",
      "        \"\"\"\n",
      "        returns true if node is a max node and false if a node\n",
      "        is a min node\n",
      "        \"\"\"\n",
      "        return node[\"player\"] == self.player\n",
      "        \n",
      "    def evaluate(self, node):\n",
      "        \"\"\"\n",
      "        Static evaluator function to return a value between Loss and Win for intermediate game\n",
      "        positions, larger if the position is better for the current player.\n",
      "        If depth limit of the search is exceeded, is applied to remaining nodes as if\n",
      "        they were leaves. \n",
      "        \n",
      "        We calculate the rating by:\n",
      "        1. Checking each token already placed, and checking how many possible ways to connect N there are\n",
      "        2. Weight this by how complete these win paths are\n",
      "        #3. If tokens in win streak are our player, add 1 point\n",
      "        #4. If tokens in win streak are other player, subtract 1 point\n",
      "        \"\"\"\n",
      "        node[\"value\"] = self.check_possible_wins(node[\"board\"])\n",
      "        return node[\"value\"]       \n",
      "\n",
      "    def minimax(self, node, depth):\n",
      "        \"\"\" \n",
      "        Recursive implementation of Minimax algorithm using pseudocode from: \n",
      "        https://www.cs.cornell.edu/courses/cs312/2002sp/lectures/rec21.htm\n",
      "        \n",
      "        Loss and Win values should be set to - and + infinity, respectively, but\n",
      "        here use -/+ 1000\n",
      "        \"\"\"\n",
      "        \n",
      "        if self.leaf(node) or depth == 0:\n",
      "            return self.evaluate(node)\n",
      "        \n",
      "        if self.max_node(node):\n",
      "            # L = -infinity\n",
      "            current_node_value = -1000\n",
      "            for child in self.children(node):\n",
      "                next_node_value = self.minimax(child, depth-1)\n",
      "                if current_node_value > next_node_value:\n",
      "                    current_node_value = next_node_value\n",
      "            return current_node_value\n",
      "        \n",
      "        if not self.max_node(node):\n",
      "            # W = +infinity\n",
      "            current_node_value = 1000\n",
      "            for child in self.children(node):\n",
      "                next_node_value = self.minimax(child, depth-1)\n",
      "                if next_node_value < current_node_value:\n",
      "                    current_node_value = next_node_value\n",
      "            return current_node_value\n",
      "\n",
      "    def calc_next_move(self):\n",
      "        \n",
      "        current_tree = self.create_tree(self.board, self.depth, self.player, None)\n",
      "        top_val = self.minimax(current_tree, self.depth)\n",
      "        print top_val\n",
      "        \n",
      "        #print current_tree- works\n",
      "        for child in current_tree[\"children\"]:\n",
      "            print child[\"value\"]\n",
      "            if child[\"value\"] == top_val:\n",
      "                print \"i'm here\"\n",
      "                return child[\"move\"]\n",
      "        "
     ],
     "language": "python",
     "metadata": {},
     "outputs": [],
     "prompt_number": 494
    },
    {
     "cell_type": "code",
     "collapsed": false,
     "input": [
      "x = ConnectN(7, 4)\n",
      "x.print_grid()"
     ],
     "language": "python",
     "metadata": {},
     "outputs": [
      {
       "output_type": "stream",
       "stream": "stdout",
       "text": [
        "[[ 0.  0.  0.  0.  0.  0.  0.]\n",
        " [ 0.  0.  0.  0.  0.  0.  0.]\n",
        " [ 0.  0.  0.  0.  0.  0.  0.]\n",
        " [ 0.  0.  0.  0.  0.  0.  0.]\n",
        " [ 0.  0.  0.  0.  0.  0.  0.]\n",
        " [ 0.  0.  0.  0.  0.  0.  0.]\n",
        " [ 0.  0.  0.  0.  0.  0.  0.]]\n"
       ]
      }
     ],
     "prompt_number": 495
    },
    {
     "cell_type": "code",
     "collapsed": false,
     "input": [
      "test = Minimax_Learner(x, 3, 4, 1)  "
     ],
     "language": "python",
     "metadata": {},
     "outputs": [],
     "prompt_number": 496
    },
    {
     "cell_type": "code",
     "collapsed": false,
     "input": [
      "test.calc_next_move()"
     ],
     "language": "python",
     "metadata": {},
     "outputs": [],
     "prompt_number": 497
    },
    {
     "cell_type": "code",
     "collapsed": false,
     "input": [],
     "language": "python",
     "metadata": {},
     "outputs": []
    }
   ],
   "metadata": {}
  }
 ]
}