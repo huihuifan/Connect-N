{
 "metadata": {
  "name": "",
  "signature": "sha256:0be446999c3ec34e5793af63820d8f6e11bed2976506e957cd603d049095ce91"
 },
 "nbformat": 3,
 "nbformat_minor": 0,
 "worksheets": [
  {
   "cells": [
    {
     "cell_type": "code",
     "collapsed": false,
     "input": [
      "import numpy as np\n",
      "from numpy.random import rand\n",
      "import math\n",
      "from random import randint\n",
      "import itertools\n",
      "import matplotlib.pyplot as plt\n",
      "%matplotlib inline"
     ],
     "language": "python",
     "metadata": {},
     "outputs": [],
     "prompt_number": 7
    },
    {
     "cell_type": "code",
     "collapsed": false,
     "input": [
      "class ConnectN:\n",
      "    \n",
      "    def __init__(self, grid_size, n):\n",
      "        self.n = n\n",
      "        self.grid_size = grid_size\n",
      "        self.grid = np.zeros([grid_size,grid_size])\n",
      "        self.finished = 0\n",
      "        self.turn_num = 0\n",
      "        \n",
      "    def reset(self):\n",
      "        self.__init__(self.grid_size, self.n)\n",
      "\n",
      "    def check_win(self, col, row, player):\n",
      "        for i in range(0, self.n):\n",
      "            if sum(self.grid[col, row - i:row - i + self.n]) == self.n*player:\n",
      "                self.finished = 1\n",
      "                return 1\n",
      "            if sum(self.grid[col - i: col - i + self.n, row]) == self.n*player:\n",
      "                self.finished = 1\n",
      "                return 1\n",
      "            if col - i >= 0 and col - i + self.n - 1 < self.grid_size and row - i >= 0 and row - i + self.n - 1 < self.grid_size:\n",
      "                if sum([self.grid[col - i + x, row - i + x] for x in range(0, self.n)]) == self.n*player:\n",
      "                    self.finished = 1\n",
      "                    return 1\n",
      "            if col - i >= 0 and col - i + self.n - 1 < self.grid_size and row + i >= 0 and row + i - self.n + 1 < self.grid_size:\n",
      "                if sum([self.grid[col - i + x, row + i - x] for x in range(0, self.n)]) == self.n*player:\n",
      "                    self.finished = 1\n",
      "                    return 1\n",
      "        return 0\n",
      "\n",
      "    def move(self, col, player):\n",
      "        \n",
      "        self.turn_num += 1\n",
      "        \n",
      "        # first value is return message, second value is reward\n",
      "        if self.finished == 1:\n",
      "            return 1, 50\n",
      "        sum_col = np.sum([abs(x) for x in self.grid[col]])\n",
      "        if sum_col == self.grid_size:\n",
      "            return -1, -1\n",
      "        self.grid[col, sum_col] = player\n",
      "        if self.check_win(col, sum_col, player) == 1:\n",
      "            return 1, 50\n",
      "        return 0, 0\n",
      "    \n",
      "    def turn(self):\n",
      "        # returns whose turn it is to go\n",
      "        # first turn is player 1, second turn is player -1\n",
      "        if self.turn_num%2 == 0:\n",
      "            return 1\n",
      "        else:\n",
      "            return -1\n",
      "        \n",
      "    def next_possible_moves(self):\n",
      "        \"\"\"\n",
      "        Returns array of possible columns for a next move\n",
      "        \"\"\"\n",
      "        columns = []\n",
      "        \n",
      "        for i in xrange(0, self.grid_size):\n",
      "            if (0 in self.grid[i]):\n",
      "                columns.append(i)\n",
      "                \n",
      "        return columns\n",
      "    \n",
      "    def print_grid(self):\n",
      "        print(np.rot90(self.grid))"
     ],
     "language": "python",
     "metadata": {},
     "outputs": [],
     "prompt_number": 60
    },
    {
     "cell_type": "code",
     "collapsed": false,
     "input": [
      "x = ConnectN(7, 5)\n",
      "x.print_grid ()"
     ],
     "language": "python",
     "metadata": {},
     "outputs": [
      {
       "output_type": "stream",
       "stream": "stdout",
       "text": [
        "[[ 0.  0.  0.  0.  0.  0.  0.]\n",
        " [ 0.  0.  0.  0.  0.  0.  0.]\n",
        " [ 0.  0.  0.  0.  0.  0.  0.]\n",
        " [ 0.  0.  0.  0.  0.  0.  0.]\n",
        " [ 0.  0.  0.  0.  0.  0.  0.]\n",
        " [ 0.  0.  0.  0.  0.  0.  0.]\n",
        " [ 0.  0.  0.  0.  0.  0.  0.]]\n"
       ]
      }
     ],
     "prompt_number": 61
    },
    {
     "cell_type": "code",
     "collapsed": false,
     "input": [
      "x.next_possible_moves()"
     ],
     "language": "python",
     "metadata": {},
     "outputs": [
      {
       "metadata": {},
       "output_type": "pyout",
       "prompt_number": 62,
       "text": [
        "[0, 1, 2, 3, 4, 5, 6]"
       ]
      }
     ],
     "prompt_number": 62
    },
    {
     "cell_type": "heading",
     "level": 3,
     "metadata": {},
     "source": [
      "Minimax"
     ]
    },
    {
     "cell_type": "code",
     "collapsed": false,
     "input": [
      "class Minimax_Learner(object):\n",
      "    \n",
      "    def __init__(self, board, depth, player):\n",
      "        self.board = board\n",
      "        self.depth = depth\n",
      "        self.num_states = board.grid_size\n",
      "        self.player = player\n",
      "        \n",
      "    def create_tree(self, node):\n",
      "        tree = {\"value\": 0, \"left\": {}, \"right\":{}, \"board\": self.board}\n",
      "        \n",
      "        next_moves = \n",
      "        \n",
      "        \n",
      "    def children(self, node):\n",
      "        \n",
      "        \n",
      "    def leaf(self, node):\n",
      "        len(children(node)) == 0\n",
      "        \n",
      "    def max_node(self, node):\n",
      "        # if node decision occurs on my turn, returns true\n",
      "        if self.board.turn == self.player:\n",
      "            return true\n",
      "        \n",
      "    def minimax(self, node, depth):\n",
      "        if leaf(node) || depth == 0:\n",
      "            evaluate(node)\n",
      "        \n",
      "        if max_node(node):\n",
      "            # -1 = L\n",
      "            current_node_value = -1\n",
      "            for child in children(node):\n",
      "                next_node_value = minimax(self, child, depth-1)\n",
      "                if current_node_value > next_node_value:\n",
      "                    current_node_value = next_node_value\n",
      "            return current_node_value\n",
      "        \n",
      "        if not max_node(node):\n",
      "            # 1 = W\n",
      "            current_node_value = 1\n",
      "            for child in children(node):\n",
      "                next_node_value = minimax(self, child, depth-1)\n",
      "                if next_node_value < current_node_value:\n",
      "                    current_node_value = next_node_value\n",
      "            return current_node_value\n",
      "        \n",
      "\n",
      "#  fun minimax(n: node, d: int): int =\n",
      "#    if leaf(n) or depth=0 return evaluate(n)\n",
      "#    if n is a max node\n",
      "#       v := L\n",
      "#       for each child of n\n",
      "#          v' := minimax (child,d-1)\n",
      "#          if v' > v, v:= v'\n",
      "#       return v\n",
      "#    if n is a min node\n",
      "#       v := W\n",
      "#       for each child of n\n",
      "#          v' := minimax (child,d-1)\n",
      "#          if v' < v, v:= v'\n",
      "#       return v"
     ],
     "language": "python",
     "metadata": {},
     "outputs": []
    },
    {
     "cell_type": "code",
     "collapsed": false,
     "input": [],
     "language": "python",
     "metadata": {},
     "outputs": [],
     "prompt_number": 3
    },
    {
     "cell_type": "code",
     "collapsed": false,
     "input": [],
     "language": "python",
     "metadata": {},
     "outputs": []
    }
   ],
   "metadata": {}
  }
 ]
}