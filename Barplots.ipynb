{
 "cells": [
  {
   "cell_type": "code",
   "execution_count": 1,
   "metadata": {
    "collapsed": true
   },
   "outputs": [],
   "source": [
    "import brewer2mpl\n",
    "import matplotlib.pyplot as plt\n",
    "%matplotlib inline"
   ]
  },
  {
   "cell_type": "code",
   "execution_count": 2,
   "metadata": {
    "collapsed": false
   },
   "outputs": [],
   "source": [
    "# Set up some better defaults for matplotlib\n",
    "from matplotlib import rcParams\n",
    "\n",
    "#colorbrewer2 Dark2 qualitative color table\n",
    "dark2_colors = brewer2mpl.get_map('Dark2', 'Qualitative', 7).mpl_colors\n",
    "\n",
    "def remove_border(axes=None, top=False, right=False, left=True, bottom=True):\n",
    "    \"\"\"\n",
    "    Minimize chartjunk by stripping out unnecesasry plot borders and axis ticks\n",
    "    \n",
    "    The top/right/left/bottom keywords toggle whether the corresponding plot border is drawn\n",
    "    \"\"\"\n",
    "    ax = axes or plt.gca()\n",
    "    ax.spines['top'].set_visible(top)\n",
    "    ax.spines['right'].set_visible(right)\n",
    "    ax.spines['left'].set_visible(left)\n",
    "    ax.spines['bottom'].set_visible(bottom)\n",
    "    \n",
    "    #turn off all ticks\n",
    "    ax.yaxis.set_ticks_position('none')\n",
    "    ax.xaxis.set_ticks_position('none')\n",
    "    \n",
    "    #now re-enable visibles\n",
    "    if top:\n",
    "        ax.xaxis.tick_top()\n",
    "    if bottom:\n",
    "        ax.xaxis.tick_bottom()\n",
    "    if left:\n",
    "        ax.yaxis.tick_left()\n",
    "    if right:\n",
    "        ax.yaxis.tick_right()"
   ]
  },
  {
   "cell_type": "code",
   "execution_count": 3,
   "metadata": {
    "collapsed": false
   },
   "outputs": [],
   "source": [
    "data = {\"p1\": \"qlearning\", \"p2\": {\"minimax\": [.7, .2, .1], \"random\": [.5, .2, .3], \\\n",
    "                              \"mcts\": [.8, .1, .1], \"extend\": [.1, .1, .8], \"qlearning\": [.33, .33, .33]}}"
   ]
  },
  {
   "cell_type": "code",
   "execution_count": 4,
   "metadata": {
    "collapsed": false
   },
   "outputs": [],
   "source": [
    "win = [data[\"p2\"][learner][0] for learner in data[\"p2\"]]\n",
    "draw = [data[\"p2\"][learner][1] for learner in data[\"p2\"]]\n",
    "loss = [data[\"p2\"][learner][2] for learner in data[\"p2\"]]"
   ]
  },
  {
   "cell_type": "code",
   "execution_count": 5,
   "metadata": {
    "collapsed": false
   },
   "outputs": [
    {
     "name": "stdout",
     "output_type": "stream",
     "text": [
      "([0.7, 0.5, 0.33, 0.1, 0.8], [0.2, 0.2, 0.33, 0.1, 0.1], [0.1, 0.3, 0.33, 0.8, 0.1])\n"
     ]
    }
   ],
   "source": [
    "print(win, draw, loss)"
   ]
  },
  {
   "cell_type": "code",
   "execution_count": 6,
   "metadata": {
    "collapsed": true
   },
   "outputs": [],
   "source": [
    "red, gray, green = '#a50026', '#878787', '#006837'"
   ]
  },
  {
   "cell_type": "code",
   "execution_count": 11,
   "metadata": {
    "collapsed": false
   },
   "outputs": [
    {
     "data": {
      "image/png": "[encoded data removed]",
      "text/plain": [
       "<matplotlib.figure.Figure at 0x106ff8ed0>"
      ]
     },
     "metadata": {},
     "output_type": "display_data"
    }
   ],
   "source": [
    "red, gray, green = '#a50026', '#878787', '#006837'\n",
    "\n",
    "plt.bar([0, 1, 2, 3, 4], win, color=green, label='Win')\n",
    "plt.bar([0, 1, 2, 3, 4], draw, color=gray, label='Draw', bottom = win)\n",
    "plt.bar([0, 1, 2, 3, 4], loss, color=red, label='Loss', bottom = [draw[i] + win[i] for i in range(0, len(draw))])\n",
    "plt.xticks([0.5, 1.5, 2.5, 3.5, 4.5], ['Random', 'Extend', 'Minimax', 'MCTS', 'Untrained Q'], rotation='horizontal')\n",
    "plt.ylabel(\"Percentage\")\n",
    "plt.xlabel(\"\")\n",
    "plt.legend(loc='upper left')\n",
    "#remove_border()\n",
    "plt.show()\n"
   ]
  },
  {
   "cell_type": "code",
   "execution_count": null,
   "metadata": {
    "collapsed": true
   },
   "outputs": [],
   "source": []
  }
 ],
 "metadata": {
  "kernelspec": {
   "display_name": "Python 2",
   "language": "python",
   "name": "python2"
  },
  "language_info": {
   "codemirror_mode": {
    "name": "ipython",
    "version": 2
   },
   "file_extension": ".py",
   "mimetype": "text/x-python",
   "name": "python",
   "nbconvert_exporter": "python",
   "pygments_lexer": "ipython2",
   "version": "2.7.9"
  }
 },
 "nbformat": 4,
 "nbformat_minor": 0
}
