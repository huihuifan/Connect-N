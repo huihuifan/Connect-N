{
 "cells": [
  {
   "cell_type": "code",
   "execution_count": 3,
   "metadata": {
    "collapsed": true
   },
   "outputs": [],
   "source": [
    "import brewer2mpl\n",
    "import matplotlib.pyplot as plt\n",
    "%matplotlib inline"
   ]
  },
  {
   "cell_type": "code",
   "execution_count": 6,
   "metadata": {
    "collapsed": false
   },
   "outputs": [],
   "source": [
    "# Set up some better defaults for matplotlib\n",
    "from matplotlib import rcParams\n",
    "\n",
    "#colorbrewer2 Dark2 qualitative color table\n",
    "dark2_colors = brewer2mpl.get_map('Dark2', 'Qualitative', 7).mpl_colors\n",
    "\n",
    "def remove_border(axes=None, top=False, right=False, left=True, bottom=True):\n",
    "    \"\"\"\n",
    "    Minimize chartjunk by stripping out unnecesasry plot borders and axis ticks\n",
    "    \n",
    "    The top/right/left/bottom keywords toggle whether the corresponding plot border is drawn\n",
    "    \"\"\"\n",
    "    ax = axes or plt.gca()\n",
    "    ax.spines['top'].set_visible(top)\n",
    "    ax.spines['right'].set_visible(right)\n",
    "    ax.spines['left'].set_visible(left)\n",
    "    ax.spines['bottom'].set_visible(bottom)\n",
    "    \n",
    "    #turn off all ticks\n",
    "    ax.yaxis.set_ticks_position('none')\n",
    "    ax.xaxis.set_ticks_position('none')\n",
    "    \n",
    "    #now re-enable visibles\n",
    "    if top:\n",
    "        ax.xaxis.tick_top()\n",
    "    if bottom:\n",
    "        ax.xaxis.tick_bottom()\n",
    "    if left:\n",
    "        ax.yaxis.tick_left()\n",
    "    if right:\n",
    "        ax.yaxis.tick_right()"
   ]
  },
  {
   "cell_type": "code",
   "execution_count": 29,
   "metadata": {
    "collapsed": false
   },
   "outputs": [],
   "source": [
    "data = {\"p1\": \"qlearning\", \"p2\": {\"Random\": [.7604, .1118, .1278], \\\n",
    "                                    \"MCTS\": [.75, .05, .2],\n",
    "                                  \"Minimax 2\": [.139, .351, .51], \\\n",
    "                                  \"Minimax 4\": [0, .4, .6]}}"
   ]
  },
  {
   "cell_type": "code",
   "execution_count": 30,
   "metadata": {
    "collapsed": true
   },
   "outputs": [],
   "source": [
    "order = [\"Random\", \"MCTS\", \"Minimax 2\", \"Minimax 4\"]"
   ]
  },
  {
   "cell_type": "code",
   "execution_count": 31,
   "metadata": {
    "collapsed": false
   },
   "outputs": [],
   "source": [
    "win = [data[\"p2\"][learner][0] for learner in order]\n",
    "draw = [data[\"p2\"][learner][1] for learner in order]\n",
    "loss = [data[\"p2\"][learner][2] for learner in order]"
   ]
  },
  {
   "cell_type": "code",
   "execution_count": 32,
   "metadata": {
    "collapsed": false
   },
   "outputs": [
    {
     "data": {
      "image/png": "[encoded data removed]",
      "text/plain": [
       "<matplotlib.figure.Figure at 0x10715f9d0>"
      ]
     },
     "metadata": {},
     "output_type": "display_data"
    }
   ],
   "source": [
    "red, gray, green = '#a50026', '#878787', '#006837'\n",
    "\n",
    "plt.bar([0, 1, 2, 3], win, color=green, label='Win')\n",
    "plt.bar([0, 1, 2, 3], draw, color=gray, label='Draw', bottom = win)\n",
    "plt.bar([0, 1, 2, 3], loss, color=red, label='Loss', bottom = [draw[i] + win[i] for i in range(0, len(draw))])\n",
    "plt.xticks([0.5, 1.5, 2.5, 3.5], ['Random', 'MCTS', 'Minimax 2', 'Minimax 4'], rotation='horizontal')\n",
    "plt.ylabel(\"Percentage\")\n",
    "plt.xlabel(\"\")\n",
    "plt.title(\"Q Learning Performance, Connect 4, Board Size 7\")\n",
    "plt.legend(bbox_to_anchor=(1.05, 1), loc=2, borderaxespad=0.)\n",
    "remove_border()\n",
    "plt.show()\n"
   ]
  },
  {
   "cell_type": "code",
   "execution_count": 37,
   "metadata": {
    "collapsed": false
   },
   "outputs": [
    {
     "data": {
      "image/png": "[encoded data removed]",
      "text/plain": [
       "<matplotlib.figure.Figure at 0x107a40fd0>"
      ]
     },
     "metadata": {},
     "output_type": "display_data"
    }
   ],
   "source": [
    "# MCTS plot\n",
    "data = {\"p1\": \"MCTS\", \"p2\": {\"Random\": [.8, 0, .2], \\\n",
    "                                    \"Q_Learning\": [.2, .05, .75],\n",
    "                                  \"Minimax 2\": [.15, 0, .85]}}\n",
    "\n",
    "order = [\"Random\", \"Q_Learning\", \"Minimax 2\"]\n",
    "\n",
    "win = [data[\"p2\"][learner][0] for learner in order]\n",
    "draw = [data[\"p2\"][learner][1] for learner in order]\n",
    "loss = [data[\"p2\"][learner][2] for learner in order]\n",
    "\n",
    "red, gray, green = '#a50026', '#878787', '#006837'\n",
    "\n",
    "plt.bar([0, 1, 2], win, color=green, label='Win')\n",
    "plt.bar([0, 1, 2], draw, color=gray, label='Draw', bottom = win)\n",
    "plt.bar([0, 1, 2], loss, color=red, label='Loss', bottom = [draw[i] + win[i] for i in range(0, len(draw))])\n",
    "plt.xticks([0.5, 1.5, 2.5], ['Random', 'Q Learning (Trained)', 'Minimax 2'], rotation='horizontal')\n",
    "plt.ylabel(\"Percentage\")\n",
    "plt.xlabel(\"\")\n",
    "plt.title(\"MCTS Learning Performance, Connect 4, Board Size 7\")\n",
    "plt.legend(bbox_to_anchor=(1.05, 1), loc=2, borderaxespad=0.)\n",
    "remove_border()\n",
    "plt.show()\n"
   ]
  },
  {
   "cell_type": "code",
   "execution_count": 7,
   "metadata": {
    "collapsed": false
   },
   "outputs": [
    {
     "data": {
      "image/png": "[encoded data removed]",
      "text/plain": [
       "<matplotlib.figure.Figure at 0x1068864d0>"
      ]
     },
     "metadata": {},
     "output_type": "display_data"
    }
   ],
   "source": [
    "# Connect 6, different board sizes\n",
    "\n",
    "data = {\"p1\": \"Q_Learning\", \"p2\": {\"twenty\": [.03, .0117, .9583], \\\n",
    "                                    \"fifteen\": [.18, .0033, .8167], \\\n",
    "                                    \"ten\": []}}\n",
    "\n",
    "order = [\"twenty\", \"fifteen\", \"ten\"]\n",
    "\n",
    "win = [data[\"p2\"][learner][0] for learner in order]\n",
    "draw = [data[\"p2\"][learner][1] for learner in order]\n",
    "loss = [data[\"p2\"][learner][2] for learner in order]\n",
    "\n",
    "red, gray, green = '#a50026', '#878787', '#006837'\n",
    "\n",
    "plt.bar([0, 1, 2], win, color=green, label='Win')\n",
    "plt.bar([0, 1, 2], draw, color=gray, label='Draw', bottom = win)\n",
    "plt.bar([0, 1, 2], loss, color=red, label='Loss', bottom = [draw[i] + win[i] for i in range(0, len(draw))])\n",
    "plt.xticks([0.5, 1.5, 2.5], ['20x20', '15x15', '10x10'], rotation='horizontal')\n",
    "plt.ylabel(\"Percentage\")\n",
    "plt.xlabel(\"\")\n",
    "plt.title(\"Q Learning vs. Minimax 2, Connect 6\")\n",
    "plt.legend(bbox_to_anchor=(1.05, 1), loc=2, borderaxespad=0.)\n",
    "remove_border()\n",
    "plt.show()\n"
   ]
  },
  {
   "cell_type": "code",
   "execution_count": null,
   "metadata": {
    "collapsed": true
   },
   "outputs": [],
   "source": [
    "# Board size 15x15\n",
    "\n",
    "data = {\"p1\": \"Q_Learning\", \"p2\": {\"four\": [.03, .0117, .9583], \\\n",
    "                                    \"six\": [.18, .0033, .8167], \\\n",
    "                                    \"eight\": [], \\\n",
    "                                    \"ten\": []}}\n",
    "\n",
    "order = [\"four\", \"six\", \"eight\", \"ten\"]\n",
    "\n",
    "win = [data[\"p2\"][learner][0] for learner in order]\n",
    "draw = [data[\"p2\"][learner][1] for learner in order]\n",
    "loss = [data[\"p2\"][learner][2] for learner in order]\n",
    "\n",
    "red, gray, green = '#a50026', '#878787', '#006837'\n",
    "\n",
    "plt.bar([0, 1, 2, 3], win, color=green, label='Win')\n",
    "plt.bar([0, 1, 2, 3], draw, color=gray, label='Draw', bottom = win)\n",
    "plt.bar([0, 1, 2, 3], loss, color=red, label='Loss', bottom = [draw[i] + win[i] for i in range(0, len(draw))])\n",
    "plt.xticks([0.5, 1.5, 2.5, 2.5], [\"Connect 4\", \"Connect 6\", \"Connect 8\", \"Connect 10\"], rotation='horizontal')\n",
    "plt.ylabel(\"Percentage\")\n",
    "plt.xlabel(\"\")\n",
    "plt.title(\"Q Learning vs. Minimax 2 on 15x15 Board\")\n",
    "plt.legend(bbox_to_anchor=(1.05, 1), loc=2, borderaxespad=0.)\n",
    "remove_border()\n",
    "plt.show()\n"
   ]
  },
  {
   "cell_type": "code",
   "execution_count": null,
   "metadata": {
    "collapsed": true
   },
   "outputs": [],
   "source": []
  }
 ],
 "metadata": {
  "kernelspec": {
   "display_name": "Python 2",
   "language": "python",
   "name": "python2"
  },
  "language_info": {
   "codemirror_mode": {
    "name": "ipython",
    "version": 2
   },
   "file_extension": ".py",
   "mimetype": "text/x-python",
   "name": "python",
   "nbconvert_exporter": "python",
   "pygments_lexer": "ipython2",
   "version": "2.7.9"
  }
 },
 "nbformat": 4,
 "nbformat_minor": 0
}
