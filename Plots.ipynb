{
 "cells": [
  {
   "cell_type": "code",
   "execution_count": 1,
   "metadata": {
    "collapsed": false
   },
   "outputs": [],
   "source": [
    "from helpers import *\n",
    "from simulator import *\n",
    "from agents import *"
   ]
  },
  {
   "cell_type": "code",
   "execution_count": 2,
   "metadata": {
    "collapsed": false
   },
   "outputs": [
    {
     "name": "stdout",
     "output_type": "stream",
     "text": [
      "[[ 0.  0.  0.  0.  0.  0.  0.]\n",
      " [ 0.  0.  0.  0.  0.  0.  0.]\n",
      " [ 0.  0.  0.  0.  0.  0.  0.]\n",
      " [ 0.  0.  0.  0.  0.  0.  0.]\n",
      " [ 0.  0.  0.  0.  0.  0.  0.]\n",
      " [ 0.  0.  0.  0.  0.  0.  0.]\n",
      " [ 0.  0.  0.  0.  0.  0.  0.]]\n"
     ]
    }
   ],
   "source": [
    "x = ConnectN(7, 4)\n",
    "x.print_grid()"
   ]
  },
  {
   "cell_type": "markdown",
   "metadata": {},
   "source": [
    "#### Q Learner, 1000 trials vs. Random"
   ]
  },
  {
   "cell_type": "code",
   "execution_count": 10,
   "metadata": {
    "collapsed": false
   },
   "outputs": [],
   "source": [
    "def train_Q_learner(num_trials = 1000, k=2, n=4, grid_size = 7):\n",
    "    \"\"\"\n",
    "    Trains the Q Learner against Minimax Depth k\n",
    "    \n",
    "    Inputs:\n",
    "    Number of games to play\n",
    "    On grid_size x\n",
    "    N tokens to connect\n",
    "    \n",
    "    Outputs:\n",
    "    Q Learner value table after training\n",
    "    \"\"\"\n",
    "    depth = k\n",
    "    N = n\n",
    "    grid_size = grid_size\n",
    "    x = ConnectN(grid_size, N)\n",
    "    \n",
    "    p1 = Q_Learner(x, None, None, player=1)\n",
    "    p2 = Random_Learner(x)\n",
    "    play_game_mod(x, p1, p2)\n",
    "    \n",
    "    for game in xrange(1, num_trials):\n",
    "                \n",
    "        x = ConnectN(grid_size, N)\n",
    "        p1 = Q_Learner(x, value_table=p1.value_table, known_states=None, player=1)\n",
    "        p2 = Random_Learner(x)\n",
    "        play_game_mod(x, p1, p2)\n",
    "\n",
    "        if game == num_trials - 1:\n",
    "            return p1.value_table\n"
   ]
  },
  {
   "cell_type": "code",
   "execution_count": 11,
   "metadata": {
    "collapsed": false
   },
   "outputs": [
    {
     "name": "stdout",
     "output_type": "stream",
     "text": [
      "[[ 0.  0.  0.  0.  0.  0.  0.]\n",
      " [ 0.  0.  0.  0.  0.  0.  0.]\n",
      " [ 0.  0.  0.  0.  0.  0.  0.]\n",
      " [ 0.  0.  0.  0.  0.  0.  0.]\n",
      " [ 0.  0.  0.  0.  0.  0.  0.]\n",
      " [ 0.  1. -1.  0.  0.  0.  0.]\n",
      " [ 1. -1. -1.  0.  0.  0.  0.]]\n"
     ]
    },
    {
     "data": {
      "text/plain": [
       "1"
      ]
     },
     "execution_count": 11,
     "metadata": {},
     "output_type": "execute_result"
    }
   ],
   "source": [
    "x = ConnectN(7,4)\n",
    "x.move(0,1)\n",
    "x.move(1,-1)\n",
    "x.move(1,1)\n",
    "x.move(2,-1)\n",
    "x.move(2,-1)\n",
    "x.print_grid()\n",
    "q = Q_Learner(x, value_table=None, known_states=None, player=1)\n",
    "q.calc_next_move(None, x)"
   ]
  },
  {
   "cell_type": "code",
   "execution_count": 12,
   "metadata": {
    "collapsed": false
   },
   "outputs": [
    {
     "data": {
      "text/plain": [
       "{'0000000000000000000000000000000000001-100001-1-10000': array([ 0.,  0.,  0.,  0.,  0.,  0.,  0.])}"
      ]
     },
     "execution_count": 12,
     "metadata": {},
     "output_type": "execute_result"
    }
   ],
   "source": [
    "q.value_table"
   ]
  },
  {
   "cell_type": "code",
   "execution_count": 13,
   "metadata": {
    "collapsed": false
   },
   "outputs": [
    {
     "data": {
      "text/plain": [
       "{'0000000000000000000000000000-1000000100000010-1-1100': array([ 0.,  0.,  0.,  0.,  0.,  0.,  0.]),\n",
       " '0000000000000000000000000000000000000000000-110000': array([ 0.,  0.,  0.,  0.,  0.,  0.,  0.]),\n",
       " '000000000000000000000000000000000000000000000-1100': array([ 0.,  0.,  0.,  0.,  0.,  0.,  0.]),\n",
       " '0000000000000000000000000000000000000000000000000': array([ 0.,  0.,  0.,  0.,  0.,  0.,  0.]),\n",
       " '0000000000000000000000000000000000000000001-11-1000': array([ 0.,  0.,  0.,  0.,  0.,  0.,  0.]),\n",
       " '0000000000000000000000000000000000000000001-110000': array([ 0.,  0.,  0.,  0.,  0.,  0.,  0.]),\n",
       " '00000000000000000000000000000000000000000010-1-1100': array([ 0.,  0.,  0.,  0.,  0.,  0.,  0.]),\n",
       " '000000000000000000000000000000000000000000100-1100': array([ 0.,  0.,  0.,  0.,  0.,  0.,  0.]),\n",
       " '000000000000000000000000000000000001-1000001-11-1000': array([ 0.,  0.,  0.,  0.,  0.,  0.,  0.]),\n",
       " '0000000000000000000000000000000000010000001-11-1000': array([ 0.,  0.,  0.,  0.,  0.,  0.,  0.]),\n",
       " '00000000000000000000000000000000000100000010-1-1100': array([ 0.,  0.,  0.,  0.,  0.,  0.,  0.]),\n",
       " '00000000000000000000000000001-1000001-1000001-11-1000': array([ 0.,  0.,  0.,  0.,  0.,  0.,  0.]),\n",
       " '000000000000000000000000000010000001-1000001-11-1000': array([ 0.,  0.,  0.,  0.,  0.,  0.,  0.]),\n",
       " '0000000000000000000001000000-1000000100000010-1-11-10': array([ 0.,  0.,  0.,  0.,  0.,  0.,  0.]),\n",
       " '0000000000000000000001000000-1000000100000010-1-1100': array([ 0.,  0.,  0.,  0.,  0.,  0.,  0.]),\n",
       " '00000000000000000000010000001-1000001-1000001-11-1000': array([ 0.,  0.,  0.,  0.,  0.,  0.,  0.]),\n",
       " '0000000000000010000001000000-1000000100-100010-1-11-10': array([ 0.,  0.,  0.,  0.,  0.,  0.,  0.]),\n",
       " '0000000000000010000001000000-1000000100000010-1-11-10': array([ 0.,  0.,  0.,  0.,  0.,  0.,  0.]),\n",
       " '0000000100000010000001000000-100-1000100-100010-1-11-10': array([ 0.,  0.,  0.,  0.,  0.,  0.,  0.]),\n",
       " '0000000100000010000001000000-1000000100-100010-1-11-10': array([ 0.,  0.,  0.,  0.,  0.,  0.,  0.]),\n",
       " '1000000100000010000001000000-100-1000100-100010-1-11-10': array([ 0.,  0.,  0.,  0.,  0.,  0.,  0.])}"
      ]
     },
     "execution_count": 13,
     "metadata": {},
     "output_type": "execute_result"
    }
   ],
   "source": [
    "train_Q_learner(num_trials=2)"
   ]
  },
  {
   "cell_type": "code",
   "execution_count": null,
   "metadata": {
    "collapsed": true
   },
   "outputs": [],
   "source": []
  }
 ],
 "metadata": {
  "kernelspec": {
   "display_name": "Python 2",
   "language": "python",
   "name": "python2"
  },
  "language_info": {
   "codemirror_mode": {
    "name": "ipython",
    "version": 2
   },
   "file_extension": ".py",
   "mimetype": "text/x-python",
   "name": "python",
   "nbconvert_exporter": "python",
   "pygments_lexer": "ipython2",
   "version": "2.7.9"
  }
 },
 "nbformat": 4,
 "nbformat_minor": 0
}
