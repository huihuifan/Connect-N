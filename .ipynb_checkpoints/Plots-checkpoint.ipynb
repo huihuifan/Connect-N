{
 "cells": [
  {
   "cell_type": "code",
   "execution_count": 2,
   "metadata": {
    "collapsed": false
   },
   "outputs": [],
   "source": [
    "from helpers import *\n",
    "from simulator import *\n",
    "from agents import *"
   ]
  },
  {
   "cell_type": "code",
   "execution_count": 3,
   "metadata": {
    "collapsed": false
   },
   "outputs": [
    {
     "name": "stdout",
     "output_type": "stream",
     "text": [
      "[[ 0.  0.  0.  0.  0.  0.  0.]\n",
      " [ 0.  0.  0.  0.  0.  0.  0.]\n",
      " [ 0.  0.  0.  0.  0.  0.  0.]\n",
      " [ 0.  0.  0.  0.  0.  0.  0.]\n",
      " [ 0.  0.  0.  0.  0.  0.  0.]\n",
      " [ 0.  0.  0.  0.  0.  0.  0.]\n",
      " [ 0.  0.  0.  0.  0.  0.  0.]]\n"
     ]
    }
   ],
   "source": [
    "x = ConnectN(7, 4)\n",
    "x.print_grid()"
   ]
  },
  {
   "cell_type": "markdown",
   "metadata": {},
   "source": [
    "#### Q Learner, 1000 trials vs. Random"
   ]
  },
  {
   "cell_type": "code",
   "execution_count": 4,
   "metadata": {
    "collapsed": false
   },
   "outputs": [],
   "source": [
    "p1 = Q_Learner(x, value_table = None, known_states = None)\n",
    "p2 = Random_Learner(x)"
   ]
  },
  {
   "cell_type": "code",
   "execution_count": 11,
   "metadata": {
    "collapsed": false
   },
   "outputs": [
    {
     "data": {
      "text/plain": [
       "{'0000000000000000000000-1000001-1000001-1000001100-100': array([ 0.,  0.,  0.,  0.,  0.,  0.,  0.]),\n",
       " '00000000000000000000000000000-1000001-1000001100-100': array([ 0.,  0.,  0.,  0.,  0.,  0.,  0.]),\n",
       " '000000000000000000000000000000000000-1000001100-100': array([ 0.,  0.,  0.,  0.,  0.,  0.,  0.]),\n",
       " '0000000000000000000000000000000000000000000000-101': array([ 0.,  0.,  0.,  0.,  0.,  0.,  0.]),\n",
       " '0000000000000000000000000000000000000000000000000': array([ 0.,  0.,  0.,  0.,  0.,  0.,  0.]),\n",
       " '0000000000000000000000000000000000000000000100-100': array([ 0.,  0.,  0.,  0.,  0.,  0.,  0.]),\n",
       " '0000000000000000000000000000000000000000001-100000': array([ 0.,  0.,  0.,  0.,  0.,  0.,  0.]),\n",
       " '0000000000000000000000000000000000000000001000-1-11': array([ 0.,  0.,  0.,  0.,  0.,  0.,  0.]),\n",
       " '0000000000000000000000000000000000000000001000-100': array([ 0.,  0.,  0.,  0.,  0.,  0.,  0.]),\n",
       " '0000000000000000000000000000000000000000001000-101': array([ 0.,  0.,  0.,  0.,  0.,  0.,  0.]),\n",
       " '0000000000000000000000000000000000000000001100-100': array([ 0.,  0.,  0.,  0.,  0.,  0.,  0.]),\n",
       " '000000000000000000000000000000000001-1000001100-100': array([ 0.,  0.,  0.,  0.,  0.,  0.,  0.]),\n",
       " '00000000000000000000000000000000000100000-11000-1-11': array([ 0.,  0.,  0.,  0.,  0.,  0.,  0.]),\n",
       " '0000000000000000000000000000000000010000001-100-100': array([ 0.,  0.,  0.,  0.,  0.,  0.,  0.]),\n",
       " '0000000000000000000000000000000000010000001-100000': array([ 0.,  0.,  0.,  0.,  0.,  0.,  0.]),\n",
       " '0000000000000000000000000000000000010000001000-1-11': array([ 0.,  0.,  0.,  0.,  0.,  0.,  0.]),\n",
       " '0000000000000000000000000000000000010000001000-10-1': array([ 0.,  0.,  0.,  0.,  0.,  0.,  0.]),\n",
       " '0000000000000000000000000000000000010000001000-100': array([ 0.,  0.,  0.,  0.,  0.,  0.,  0.]),\n",
       " '00000000000000000000000000001-1000001-1000001100-100': array([ 0.,  0.,  0.,  0.,  0.,  0.,  0.]),\n",
       " '0000000000000000000000000000100000-1100000-11000-1-11': array([ 0.,  0.,  0.,  0.,  0.,  0.,  0.]),\n",
       " '00000000000000000000000000001000000100000-11000-1-11': array([ 0.,  0.,  0.,  0.,  0.,  0.,  0.]),\n",
       " '0000000000000000000000000000100000010000001-10-1-100': array([ 0.,  0.,  0.,  0.,  0.,  0.,  0.]),\n",
       " '0000000000000000000000000000100000010000001-100-10-1': array([ 0.,  0.,  0.,  0.,  0.,  0.,  0.]),\n",
       " '0000000000000000000000000000100000010000001-100-100': array([ 0.,  0.,  0.,  0.,  0.,  0.,  0.]),\n",
       " '0000000000000000000000000000100000010000001000-10-1': array([ 0.,  0.,  0.,  0.,  0.,  0.,  0.]),\n",
       " '0000000000000000000001-1000001-1000001-1000001100-100': array([ 0.,  0.,  0.,  0.,  0.,  0.,  0.]),\n",
       " '0000000000000000000001000000100000-1100000-11000-1-11': array([ 0.,  0.,  0.,  0.,  0.,  0.,  0.]),\n",
       " '0000000000000000000001000000100000010000001-10-1-100': array([ 0.,  0.,  0.,  0.,  0.,  0.,  0.]),\n",
       " '0000000000000000000001000000100000010000001-100-10-1': array([ 0.,  0.,  0.,  0.,  0.,  0.,  0.])}"
      ]
     },
     "execution_count": 11,
     "metadata": {},
     "output_type": "execute_result"
    }
   ],
   "source": [
    "x = ConnectN(7, 4)\n",
    "play_game_mod(x, p1, p2)\n",
    "p1.value_table"
   ]
  },
  {
   "cell_type": "code",
   "execution_count": 20,
   "metadata": {
    "collapsed": true
   },
   "outputs": [],
   "source": [
    "def train_Q_learner(num_trials = 1000, k=2, n=4, grid_size = 7):\n",
    "    \"\"\"\n",
    "    Trains the Q Learner against Minimax Depth k\n",
    "    \n",
    "    Inputs:\n",
    "    Number of games to play\n",
    "    On grid_size x\n",
    "    N tokens to connect\n",
    "    \n",
    "    Outputs:\n",
    "    Q Learner value table after training\n",
    "    \"\"\"\n",
    "    depth = k\n",
    "    N = n\n",
    "    grid_size = grid_size\n",
    "    x = ConnectN(grid_size, N)\n",
    "    \n",
    "    p1 = Q_Learner(x, player=1)\n",
    "\n",
    "    p2 = Random_Learner(x)\n",
    "    play_game_mod(x, p1, p2, True)\n",
    "    \n",
    "    for game in xrange(1, num_trials):\n",
    "                \n",
    "        x = ConnectN(grid_size, N)\n",
    "        p1 = Q_Learner(x, value_table=p1.value_table, e=p1.e, player=1)\n",
    "        p2 = Random_Learner(x)\n",
    "        play_game_no_output(x, p1, p2, True)\n",
    "        \n",
    "        if game == num_trials - 1:\n",
    "            return p1.value_table\n"
   ]
  },
  {
   "cell_type": "code",
   "execution_count": 21,
   "metadata": {
    "collapsed": false
   },
   "outputs": [
    {
     "ename": "NameError",
     "evalue": "global name 'e' is not defined",
     "output_type": "error",
     "traceback": [
      "\u001b[0;31m---------------------------------------------------------------------------\u001b[0m",
      "\u001b[0;31mNameError\u001b[0m                                 Traceback (most recent call last)",
      "\u001b[0;32m<ipython-input-21-0d079293426e>\u001b[0m in \u001b[0;36m<module>\u001b[0;34m()\u001b[0m\n\u001b[0;32m----> 1\u001b[0;31m \u001b[0mtrain_Q_learner\u001b[0m\u001b[0;34m(\u001b[0m\u001b[0mnum_trials\u001b[0m\u001b[0;34m=\u001b[0m\u001b[0;36m10\u001b[0m\u001b[0;34m)\u001b[0m\u001b[0;34m\u001b[0m\u001b[0m\n\u001b[0m",
      "\u001b[0;32m<ipython-input-20-de2cf7988f73>\u001b[0m in \u001b[0;36mtrain_Q_learner\u001b[0;34m(num_trials, k, n, grid_size)\u001b[0m\n\u001b[1;32m     24\u001b[0m \u001b[0;34m\u001b[0m\u001b[0m\n\u001b[1;32m     25\u001b[0m         \u001b[0mx\u001b[0m \u001b[0;34m=\u001b[0m \u001b[0mConnectN\u001b[0m\u001b[0;34m(\u001b[0m\u001b[0mgrid_size\u001b[0m\u001b[0;34m,\u001b[0m \u001b[0mN\u001b[0m\u001b[0;34m)\u001b[0m\u001b[0;34m\u001b[0m\u001b[0m\n\u001b[0;32m---> 26\u001b[0;31m         \u001b[0mp1\u001b[0m \u001b[0;34m=\u001b[0m \u001b[0mQ_Learner\u001b[0m\u001b[0;34m(\u001b[0m\u001b[0mx\u001b[0m\u001b[0;34m,\u001b[0m \u001b[0mvalue_table\u001b[0m\u001b[0;34m=\u001b[0m\u001b[0mp1\u001b[0m\u001b[0;34m.\u001b[0m\u001b[0mvalue_table\u001b[0m\u001b[0;34m,\u001b[0m \u001b[0me\u001b[0m\u001b[0;34m=\u001b[0m\u001b[0mp1\u001b[0m\u001b[0;34m.\u001b[0m\u001b[0me\u001b[0m\u001b[0;34m,\u001b[0m \u001b[0mplayer\u001b[0m\u001b[0;34m=\u001b[0m\u001b[0;36m1\u001b[0m\u001b[0;34m)\u001b[0m\u001b[0;34m\u001b[0m\u001b[0m\n\u001b[0m\u001b[1;32m     27\u001b[0m         \u001b[0mp2\u001b[0m \u001b[0;34m=\u001b[0m \u001b[0mRandom_Learner\u001b[0m\u001b[0;34m(\u001b[0m\u001b[0mx\u001b[0m\u001b[0;34m)\u001b[0m\u001b[0;34m\u001b[0m\u001b[0m\n\u001b[1;32m     28\u001b[0m         \u001b[0mplay_game_no_output\u001b[0m\u001b[0;34m(\u001b[0m\u001b[0mx\u001b[0m\u001b[0;34m,\u001b[0m \u001b[0mp1\u001b[0m\u001b[0;34m,\u001b[0m \u001b[0mp2\u001b[0m\u001b[0;34m,\u001b[0m \u001b[0mTrue\u001b[0m\u001b[0;34m)\u001b[0m\u001b[0;34m\u001b[0m\u001b[0m\n",
      "\u001b[0;32m/Users/AngelaFan/Desktop/Connect-N/agents.py\u001b[0m in \u001b[0;36m__init__\u001b[0;34m(self, task, known_states, value_table, e, epsilon, discount_factor, learning_rate, player, trace_size)\u001b[0m\n\u001b[1;32m    426\u001b[0m     \u001b[0;32mdef\u001b[0m \u001b[0m__init__\u001b[0m\u001b[0;34m(\u001b[0m\u001b[0mself\u001b[0m\u001b[0;34m,\u001b[0m \u001b[0mtask\u001b[0m\u001b[0;34m,\u001b[0m \u001b[0mknown_states\u001b[0m\u001b[0;34m=\u001b[0m\u001b[0mNone\u001b[0m\u001b[0;34m,\u001b[0m \u001b[0mvalue_table\u001b[0m\u001b[0;34m=\u001b[0m\u001b[0mNone\u001b[0m\u001b[0;34m,\u001b[0m \u001b[0me\u001b[0m\u001b[0;34m=\u001b[0m\u001b[0mNone\u001b[0m\u001b[0;34m,\u001b[0m \u001b[0mepsilon\u001b[0m\u001b[0;34m=\u001b[0m\u001b[0;36m.1\u001b[0m\u001b[0;34m,\u001b[0m \u001b[0mdiscount_factor\u001b[0m\u001b[0;34m=\u001b[0m\u001b[0;36m.9\u001b[0m\u001b[0;34m,\u001b[0m \u001b[0mlearning_rate\u001b[0m\u001b[0;34m=\u001b[0m\u001b[0;36m.5\u001b[0m\u001b[0;34m,\u001b[0m \u001b[0mplayer\u001b[0m\u001b[0;34m=\u001b[0m\u001b[0;36m1\u001b[0m\u001b[0;34m,\u001b[0m \u001b[0mtrace_size\u001b[0m\u001b[0;34m=\u001b[0m\u001b[0;36m.1\u001b[0m\u001b[0;34m)\u001b[0m\u001b[0;34m:\u001b[0m\u001b[0;34m\u001b[0m\u001b[0m\n\u001b[1;32m    427\u001b[0m         TD_Learner.__init__(self, task=task, value_table=value_table, e_table=e, epsilon=epsilon, discount_factor=discount_factor, \\\n\u001b[0;32m--> 428\u001b[0;31m             learning_rate=learning_rate, player=player, trace_size=trace_size)\n\u001b[0m\u001b[1;32m    429\u001b[0m         \u001b[0mself\u001b[0m\u001b[0;34m.\u001b[0m\u001b[0mknown_states\u001b[0m \u001b[0;34m=\u001b[0m \u001b[0mknown_states\u001b[0m\u001b[0;34m\u001b[0m\u001b[0m\n\u001b[1;32m    430\u001b[0m \u001b[0;34m\u001b[0m\u001b[0m\n",
      "\u001b[0;32m/Users/AngelaFan/Desktop/Connect-N/agents.py\u001b[0m in \u001b[0;36m__init__\u001b[0;34m(self, task, value_table, e_table, epsilon, discount_factor, learning_rate, player, trace_size)\u001b[0m\n\u001b[1;32m    388\u001b[0m             \u001b[0mself\u001b[0m\u001b[0;34m.\u001b[0m\u001b[0me\u001b[0m \u001b[0;34m=\u001b[0m \u001b[0mConnectDict\u001b[0m\u001b[0;34m(\u001b[0m\u001b[0mself\u001b[0m\u001b[0;34m.\u001b[0m\u001b[0mnum_states\u001b[0m\u001b[0;34m)\u001b[0m\u001b[0;34m\u001b[0m\u001b[0m\n\u001b[1;32m    389\u001b[0m         \u001b[0;32melse\u001b[0m\u001b[0;34m:\u001b[0m\u001b[0;34m\u001b[0m\u001b[0m\n\u001b[0;32m--> 390\u001b[0;31m             \u001b[0mself\u001b[0m\u001b[0;34m.\u001b[0m\u001b[0me\u001b[0m \u001b[0;34m=\u001b[0m \u001b[0me\u001b[0m\u001b[0;34m\u001b[0m\u001b[0m\n\u001b[0m\u001b[1;32m    391\u001b[0m \u001b[0;34m\u001b[0m\u001b[0m\n\u001b[1;32m    392\u001b[0m         \u001b[0mself\u001b[0m\u001b[0;34m.\u001b[0m\u001b[0mplayer\u001b[0m \u001b[0;34m=\u001b[0m \u001b[0mplayer\u001b[0m\u001b[0;34m\u001b[0m\u001b[0m\n",
      "\u001b[0;31mNameError\u001b[0m: global name 'e' is not defined"
     ]
    }
   ],
   "source": [
    "train_Q_learner(num_trials=10)"
   ]
  },
  {
   "cell_type": "code",
   "execution_count": null,
   "metadata": {
    "collapsed": true
   },
   "outputs": [],
   "source": []
  }
 ],
 "metadata": {
  "kernelspec": {
   "display_name": "Python 2",
   "language": "python",
   "name": "python2"
  },
  "language_info": {
   "codemirror_mode": {
    "name": "ipython",
    "version": 2
   },
   "file_extension": ".py",
   "mimetype": "text/x-python",
   "name": "python",
   "nbconvert_exporter": "python",
   "pygments_lexer": "ipython2",
   "version": "2.7.9"
  }
 },
 "nbformat": 4,
 "nbformat_minor": 0
}
