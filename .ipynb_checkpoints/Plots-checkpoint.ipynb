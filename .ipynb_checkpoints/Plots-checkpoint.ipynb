{
 "cells": [
  {
   "cell_type": "code",
   "execution_count": 1,
   "metadata": {
    "collapsed": false
   },
   "outputs": [],
   "source": [
    "from helpers import *\n",
    "from simulator import *\n",
    "from agents import *"
   ]
  },
  {
   "cell_type": "code",
   "execution_count": 2,
   "metadata": {
    "collapsed": false
   },
   "outputs": [
    {
     "name": "stdout",
     "output_type": "stream",
     "text": [
      "[[ 0.  0.  0.  0.  0.  0.  0.]\n",
      " [ 0.  0.  0.  0.  0.  0.  0.]\n",
      " [ 0.  0.  0.  0.  0.  0.  0.]\n",
      " [ 0.  0.  0.  0.  0.  0.  0.]\n",
      " [ 0.  0.  0.  0.  0.  0.  0.]\n",
      " [ 0.  0.  0.  0.  0.  0.  0.]\n",
      " [ 0.  0.  0.  0.  0.  0.  0.]]\n"
     ]
    }
   ],
   "source": [
    "x = ConnectN(7, 4)\n",
    "x.print_grid()"
   ]
  },
  {
   "cell_type": "code",
   "execution_count": 9,
   "metadata": {
    "collapsed": true
   },
   "outputs": [],
   "source": [
    "def play_game_no_output(board, p1, p2, q=False):\n",
    "    \"\"\"\n",
    "    Runs Connect 4 game given simulator object and two agents (players)\n",
    "    \"\"\"\n",
    "    reward = None\n",
    "    \n",
    "    while True:\n",
    "        p1move = p1.calc_next_move(reward, board)\n",
    "        if (p1move is None):\n",
    "            return -1\n",
    "        p1result, reward = board.move(p1move, 1)\n",
    "        if (p1result == 1):\n",
    "            p1.calc_next_move(reward, board)\n",
    "            return 1\n",
    "        elif (p1result == -1):\n",
    "            return -1\n",
    "        p2move = p2.calc_next_move()\n",
    "        if (p2move is None):\n",
    "            return -1\n",
    "        p2result = board.move(p2move, -1)\n",
    "        if (p2result[0] == 1):\n",
    "            return 2\n",
    "        elif (p2result[0] == -1):\n",
    "            return -1\n"
   ]
  },
  {
   "cell_type": "code",
   "execution_count": 10,
   "metadata": {
    "collapsed": true
   },
   "outputs": [],
   "source": [
    "def train_Q_learner(num_trials = 1000, k=2, n=4, grid_size = 7):\n",
    "    \"\"\"\n",
    "    Trains the Q Learner against Minimax Depth k\n",
    "    \n",
    "    Inputs:\n",
    "    Number of games to play\n",
    "    On grid_size x\n",
    "    N tokens to connect\n",
    "    \n",
    "    Outputs:\n",
    "    Q Learner value table after training\n",
    "    \"\"\"\n",
    "    depth = k\n",
    "    N = n\n",
    "    grid_size = grid_size\n",
    "    x = ConnectN(grid_size, N)\n",
    "    \n",
    "    p1 = Q_Learner(x, None, None, player=1)\n",
    "    p2 = Random_Learner(x)\n",
    "    play_game_no_output(x, p1, p2, True)\n",
    "    \n",
    "    for game in xrange(1, num_trials):\n",
    "                \n",
    "        x = ConnectN(grid_size, N)\n",
    "        p1 = Q_Learner(x, p1.value_table, None, player=1)\n",
    "        p2 = Random_Learner(x)\n",
    "        play_game_no_output(x, p1, p2, True)\n",
    "\n",
    "        if game == num_trials - 1:\n",
    "            return p1.value_table\n"
   ]
  },
  {
   "cell_type": "code",
   "execution_count": 11,
   "metadata": {
    "collapsed": false
   },
   "outputs": [
    {
     "data": {
      "text/plain": [
       "2"
      ]
     },
     "execution_count": 11,
     "metadata": {},
     "output_type": "execute_result"
    }
   ],
   "source": [
    "x = ConnectN(7,4)\n",
    "x.move(0,1)\n",
    "x.move(1,-1)\n",
    "x.move(1,1)\n",
    "x.move(2,-1)\n",
    "x.move(2,-1)\n",
    "ql = Q_Learner(x, None, True, player=1)\n",
    "ql.calc_next_move(None, x)"
   ]
  },
  {
   "cell_type": "code",
   "execution_count": 12,
   "metadata": {
    "collapsed": false
   },
   "outputs": [
    {
     "data": {
      "text/plain": [
       "{'0000000000000000000000000000000000001-100001-1-10000': array([  0.,   0.,  15.,   0.,   0.,   0.,   0.])}"
      ]
     },
     "execution_count": 12,
     "metadata": {},
     "output_type": "execute_result"
    }
   ],
   "source": [
    "ql.value_table"
   ]
  },
  {
   "cell_type": "code",
   "execution_count": 15,
   "metadata": {
    "collapsed": false
   },
   "outputs": [
    {
     "data": {
      "text/plain": [
       "{'00000000000000000000000000000000000-100000010000-11': array([ 0.,  0.,  0.,  0.,  0.,  0.,  0.]),\n",
       " '00000000000000000000000000000000000000000-110-10001': array([ 0.,  0.,  0.,  0.,  0.,  0.,  0.]),\n",
       " '00000000000000000000000000000000000000000000-10001': array([ 0.,  0.,  0.,  0.,  0.,  0.,  0.]),\n",
       " '00000000000000000000000000000000000000000000000-11': array([ 0.,  0.,  0.,  0.,  0.,  0.,  0.]),\n",
       " '0000000000000000000000000000000000000000000000000': array([ 0.,  0.,  0.,  0.,  0.,  0.,  0.]),\n",
       " '00000000000000000000000000000000000000000010-10001': array([ 0.,  0.,  0.,  0.,  0.,  0.,  0.]),\n",
       " '00000000000000000000000000000000000000000010000-11': array([ 0.,  0.,  0.,  0.,  0.,  0.,  0.]),\n",
       " '0000000000000000000000000000000000010-1000-110-10001': array([ 0.,  0.,  0.,  0.,  0.,  0.,  0.]),\n",
       " '00000000000000000000000000000000000100000-110-10001': array([ 0.,  0.,  0.,  0.,  0.,  0.,  0.]),\n",
       " '0000000000000000000000000000100000-110-1000-110-10001': array([ 0.,  0.,  0.,  0.,  0.,  0.,  0.]),\n",
       " '00000000000000000000000000001000000-10000001000-1-11': array([ 0.,  0.,  0.,  0.,  0.,  0.,  0.]),\n",
       " '00000000000000000000000000001000000-100000010000-11': array([ 0.,  0.,  0.,  0.,  0.,  0.,  0.]),\n",
       " '0000000000000000000000000000100000010-1000-110-10001': array([ 0.,  0.,  0.,  0.,  0.,  0.,  0.]),\n",
       " '0000000000000000000001000000100000-110-1000-110-10001': array([ 25.,   0.,   0.,   0.,   0.,   0.,   0.]),\n",
       " '00000000000000000000010000001000000-100000-11000-1-11': array([ 0.,  0.,  0.,  0.,  0.,  0.,  0.]),\n",
       " '00000000000000000000010000001000000-10000001000-1-11': array([ 0.,  0.,  0.,  0.,  0.,  0.,  0.]),\n",
       " '0000000000000010000001000000100000-1-100000-11000-1-11': array([ 0.,  0.,  0.,  0.,  0.,  0.,  0.]),\n",
       " '00000000000000100000010000001000000-100000-11000-1-11': array([ 0.,  0.,  0.,  0.,  0.,  0.,  0.]),\n",
       " '0000000100000010000001000000100000-1-100000-11000-1-11': array([ 25.,   0.,   0.,   0.,   0.,   0.,   0.])}"
      ]
     },
     "execution_count": 15,
     "metadata": {},
     "output_type": "execute_result"
    }
   ],
   "source": [
    "train_Q_learner(num_trials=2)"
   ]
  },
  {
   "cell_type": "code",
   "execution_count": null,
   "metadata": {
    "collapsed": true
   },
   "outputs": [],
   "source": []
  }
 ],
 "metadata": {
  "kernelspec": {
   "display_name": "Python 2",
   "language": "python",
   "name": "python2"
  },
  "language_info": {
   "codemirror_mode": {
    "name": "ipython",
    "version": 2
   },
   "file_extension": ".py",
   "mimetype": "text/x-python",
   "name": "python",
   "nbconvert_exporter": "python",
   "pygments_lexer": "ipython2",
   "version": "2.7.9"
  }
 },
 "nbformat": 4,
 "nbformat_minor": 0
}
